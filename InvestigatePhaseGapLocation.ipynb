{
 "cells": [
  {
   "cell_type": "code",
   "execution_count": 1,
   "id": "fdd3a7fd",
   "metadata": {},
   "outputs": [],
   "source": [
    "import os\n",
    "import numpy as np\n",
    "import pandas as pd\n",
    "import matplotlib.pyplot as plt\n",
    "%matplotlib inline\n",
    "\n",
    "from simcodes.fitters import ExtendedLS\n",
    "from gatspy.periodic import LombScargleMultiband"
   ]
  },
  {
   "cell_type": "code",
   "execution_count": 2,
   "id": "e7ba4ae2",
   "metadata": {},
   "outputs": [],
   "source": [
    "### Integrating with period determination\n",
    "library=pd.read_csv('simcodes/ZTF_VS_all_formatted.csv',index_col=0)\n",
    "library['unique_filts_']=library['unique_filts_'].apply(lambda x:list(map(eval,x[1:-1].split(' '))))\n",
    "library['ymean_by_filt_']=library['ymean_by_filt_'].apply(lambda x:np.array([float(k) for k in x[1:-1].split(' ') if len(k)>0]))\n",
    "library['theta']=library['theta'].apply(lambda x:np.array([float(k) for k in x[1:-1].split(' ') if len(k)>0]))"
   ]
  },
  {
   "cell_type": "code",
   "execution_count": 3,
   "id": "9cf1a4a0",
   "metadata": {},
   "outputs": [],
   "source": [
    "def determinePeriod(row,missingData:bool=True,numPoints=60,frac:float=0.3,plot:bool=True)->float:\n",
    "    \"\"\"\n",
    "    Determine period for a simulated light curve 'observed' with a given cadence. Credits for the simcode and \n",
    "    LCs to Kresimir Tisanic\n",
    "    \"\"\"\n",
    "    tt=[]\n",
    "    p=row['_best_period']\n",
    "    tt.append(np.linspace(0,p*5,numPoints))\n",
    "    \n",
    "    if missingData==True:\n",
    "        rem=(tt[0]%p)/p\n",
    "        i=0\n",
    "        while i<=round(1-frac,2):\n",
    "            t=np.delete(tt[0],(rem>i) & (rem<(i+frac)))\n",
    "            i+=0.1\n",
    "            tt.append(t)\n",
    "    periodMin=p*0.1\n",
    "    periodMax=p*2.1\n",
    "    pp={}\n",
    "    if plot==True:\n",
    "        fig=plt.figure(figsize=(5,5))\n",
    "        subplot=fig.add_subplot(1,1,1)\n",
    "    for i,t in enumerate(tt):\n",
    "        filts=[row['unique_filts_'][0]]*len(t)\n",
    "        ext=ExtendedLS(fit_period=True,optimizer_kwds=dict(quiet=True),Nterms_base=row['Nterms'])\n",
    "        ext.import_parameters(row)\n",
    "        mags = ext.predict(t=t,filts=filts)\n",
    "        magErrs=0.1*mags\n",
    "        ext.optimizer.period_range = (periodMin, periodMax)\n",
    "        p=ext.fit(t,mags,magErrs,filts).best_period\n",
    "        if plot==True:\n",
    "            subplot.scatter((t%p)/p,mags,s=1,label=str(i))\n",
    "        pp['detectedPeriod_'+str(i)]=p\n",
    "        pp['phase_'+str(i)]=(t%p)/p\n",
    "        pp['mags_'+str(i)]=mags\n",
    "    if plot==True:\n",
    "        plt.legend()\n",
    "    return pp"
   ]
  },
  {
   "cell_type": "code",
   "execution_count": 4,
   "id": "5e64d2f9",
   "metadata": {},
   "outputs": [],
   "source": [
    "libraryShort=library.iloc[0:3]"
   ]
  },
  {
   "cell_type": "code",
   "execution_count": 30,
   "id": "7a2dc9f5",
   "metadata": {},
   "outputs": [
    {
     "name": "stdout",
     "output_type": "stream",
     "text": [
      "30 : 0.3 0.4 0.5 0.6 0.7 0.8 \n",
      "32 : 0.3 0.4 0.5 0.6 0.7 0.8 \n",
      "34 : 0.3 0.4 0.5 0.6 0.7 0.8 \n",
      "36 : 0.3 0.4 0.5 0.6 0.7 0.8 \n",
      "38 : 0.3 0.4 0.5 0.6 0.7 0.8 \n",
      "40 : 0.3 0.4 0.5 0.6 0.7 0.8 \n",
      "42 : 0.3 0.4 0.5 0.6 0.7 0.8 \n",
      "44 : 0.3 0.4 0.5 0.6 0.7 0.8 \n",
      "46 : 0.3 0.4 0.5 0.6 0.7 0.8 \n",
      "48 : 0.3 0.4 0.5 0.6 0.7 0.8 \n",
      "50 : 0.3 0.4 0.5 0.6 0.7 0.8 \n",
      "52 : 0.3 0.4 0.5 0.6 0.7 0.8 \n",
      "54 : 0.3 0.4 0.5 0.6 0.7 0.8 \n",
      "56 : 0.3 0.4 0.5 0.6 0.7 0.8 \n",
      "58 : 0.3 0.4 0.5 0.6 0.7 0.8 \n",
      "60 : 0.3 0.4 0.5 0.6 0.7 0.8 \n",
      "62 : 0.3 0.4 0.5 0.6 0.7 0.8 \n",
      "64 : 0.3 0.4 0.5 0.6 0.7 0.8 \n",
      "66 : 0.3 0.4 0.5 0.6 0.7 0.8 \n",
      "68 : 0.3 0.4 0.5 0.6 0.7 0.8 \n"
     ]
    }
   ],
   "source": [
    "outputs={}\n",
    "summary=pd.DataFrame(columns=['numPoints','frac','maxRatio','stdRatio'])\n",
    "for numPoints in range(30,70,2):\n",
    "    perDetermine={}\n",
    "    print(numPoints,': ',end='')\n",
    "    for frac in np.linspace(0.3,0.8,6):\n",
    "        frac=round(frac,1)\n",
    "        print(frac,end=' ')\n",
    "        libraryOutput=libraryShort.apply(lambda row:determinePeriod(row,frac=frac,\n",
    "                                                           plot=False,\n",
    "                                                           numPoints=numPoints), \n",
    "                                                           axis=1, result_type='expand')\n",
    "        workCols=[c for c in libraryOutput.columns if 'detectedPeriod' in c]\n",
    "        libraryOutput2=libraryOutput[workCols].div(libraryOutput['detectedPeriod_0'],axis=0)\n",
    "        libraryOutput2=libraryOutput2.rename({c:c.replace('detectedPeriod','periodRatio') for c in libraryOutput2.columns},\n",
    "                                             axis='columns')\n",
    "        \n",
    "        workCols=[c for c in libraryOutput2.columns if 'periodRatio' in c]\n",
    "        libraryOutput2['maxRatio']=libraryOutput2[workCols].abs().max(axis='columns',skipna=True)\n",
    "        libraryOutput2['minRatio']=libraryOutput2[workCols].abs().min(axis='columns',skipna=True)\n",
    "        libraryOutput2['std']=libraryOutput2[workCols].std(axis='columns',skipna=True)\n",
    "        for c in libraryOutput.columns: \n",
    "            if 'phase' or 'mags' in c:\n",
    "                libraryOutput2[c]=libraryOutput[c]\n",
    "        \n",
    "        perDetermine[frac]=libraryOutput2\n",
    "        rec={'numPoints':numPoints,'frac':frac,\n",
    "             'maxRatio':round(libraryOutput2['maxRatio'].max(),4),\n",
    "             'minRatio':round(libraryOutput2['minRatio'].min(),4),\n",
    "             'stdRatio':round(libraryOutput2['std'].max(),4)}\n",
    "        summary=summary.append(rec,ignore_index=True)\n",
    "    print('')\n",
    "    outputs[numPoints]=perDetermine"
   ]
  },
  {
   "cell_type": "code",
   "execution_count": 58,
   "id": "b6859371",
   "metadata": {},
   "outputs": [
    {
     "data": {
      "text/plain": [
       "<matplotlib.collections.PathCollection at 0x7efc62ecc970>"
      ]
     },
     "execution_count": 58,
     "metadata": {},
     "output_type": "execute_result"
    },
    {
     "data": {
      "image/png": "[encoded data removed]",
      "text/plain": [
       "<Figure size 360x360 with 1 Axes>"
      ]
     },
     "metadata": {
      "needs_background": "light"
     },
     "output_type": "display_data"
    }
   ],
   "source": [
    "numPoints=30\n",
    "frac=0.3\n",
    "fig,ax=plt.subplots(figsize=(5,5))\n",
    "ax.scatter(outputs[numPoints][frac].iloc[0]['phase_0'],outputs[numPoints][frac].iloc[0]['mags_0'],s=1)\n",
    "ax.scatter(outputs[40][frac].iloc[0]['phase_4'],outputs[40][frac].iloc[0]['mags_4'],s=1)"
   ]
  },
  {
   "cell_type": "code",
   "execution_count": 32,
   "id": "b9422048",
   "metadata": {},
   "outputs": [
    {
     "data": {
      "text/html": [
       "<div>\n",
       "<style scoped>\n",
       "    .dataframe tbody tr th:only-of-type {\n",
       "        vertical-align: middle;\n",
       "    }\n",
       "\n",
       "    .dataframe tbody tr th {\n",
       "        vertical-align: top;\n",
       "    }\n",
       "\n",
       "    .dataframe thead th {\n",
       "        text-align: right;\n",
       "    }\n",
       "</style>\n",
       "<table border=\"1\" class=\"dataframe\">\n",
       "  <thead>\n",
       "    <tr style=\"text-align: right;\">\n",
       "      <th></th>\n",
       "      <th>numPoints</th>\n",
       "      <th>frac</th>\n",
       "      <th>maxRatio</th>\n",
       "      <th>stdRatio</th>\n",
       "      <th>minRatio</th>\n",
       "    </tr>\n",
       "  </thead>\n",
       "  <tbody>\n",
       "    <tr>\n",
       "      <th>0</th>\n",
       "      <td>30.0</td>\n",
       "      <td>0.3</td>\n",
       "      <td>4.7993</td>\n",
       "      <td>1.2972</td>\n",
       "      <td>0.7059</td>\n",
       "    </tr>\n",
       "    <tr>\n",
       "      <th>1</th>\n",
       "      <td>30.0</td>\n",
       "      <td>0.4</td>\n",
       "      <td>4.7993</td>\n",
       "      <td>1.3620</td>\n",
       "      <td>0.7059</td>\n",
       "    </tr>\n",
       "    <tr>\n",
       "      <th>2</th>\n",
       "      <td>30.0</td>\n",
       "      <td>0.5</td>\n",
       "      <td>4.8003</td>\n",
       "      <td>1.8541</td>\n",
       "      <td>0.7059</td>\n",
       "    </tr>\n",
       "    <tr>\n",
       "      <th>3</th>\n",
       "      <td>30.0</td>\n",
       "      <td>0.6</td>\n",
       "      <td>1.0000</td>\n",
       "      <td>0.1201</td>\n",
       "      <td>0.7059</td>\n",
       "    </tr>\n",
       "    <tr>\n",
       "      <th>4</th>\n",
       "      <td>30.0</td>\n",
       "      <td>0.7</td>\n",
       "      <td>1.0000</td>\n",
       "      <td>0.1470</td>\n",
       "      <td>0.7059</td>\n",
       "    </tr>\n",
       "    <tr>\n",
       "      <th>...</th>\n",
       "      <td>...</td>\n",
       "      <td>...</td>\n",
       "      <td>...</td>\n",
       "      <td>...</td>\n",
       "      <td>...</td>\n",
       "    </tr>\n",
       "    <tr>\n",
       "      <th>115</th>\n",
       "      <td>68.0</td>\n",
       "      <td>0.4</td>\n",
       "      <td>1.0003</td>\n",
       "      <td>0.0001</td>\n",
       "      <td>1.0000</td>\n",
       "    </tr>\n",
       "    <tr>\n",
       "      <th>116</th>\n",
       "      <td>68.0</td>\n",
       "      <td>0.5</td>\n",
       "      <td>1.0002</td>\n",
       "      <td>0.0001</td>\n",
       "      <td>1.0000</td>\n",
       "    </tr>\n",
       "    <tr>\n",
       "      <th>117</th>\n",
       "      <td>68.0</td>\n",
       "      <td>0.6</td>\n",
       "      <td>1.0002</td>\n",
       "      <td>0.0001</td>\n",
       "      <td>1.0000</td>\n",
       "    </tr>\n",
       "    <tr>\n",
       "      <th>118</th>\n",
       "      <td>68.0</td>\n",
       "      <td>0.7</td>\n",
       "      <td>1.0002</td>\n",
       "      <td>0.0001</td>\n",
       "      <td>1.0000</td>\n",
       "    </tr>\n",
       "    <tr>\n",
       "      <th>119</th>\n",
       "      <td>68.0</td>\n",
       "      <td>0.8</td>\n",
       "      <td>1.0002</td>\n",
       "      <td>0.0001</td>\n",
       "      <td>1.0000</td>\n",
       "    </tr>\n",
       "  </tbody>\n",
       "</table>\n",
       "<p>120 rows × 5 columns</p>\n",
       "</div>"
      ],
      "text/plain": [
       "     numPoints  frac  maxRatio  stdRatio  minRatio\n",
       "0         30.0   0.3    4.7993    1.2972    0.7059\n",
       "1         30.0   0.4    4.7993    1.3620    0.7059\n",
       "2         30.0   0.5    4.8003    1.8541    0.7059\n",
       "3         30.0   0.6    1.0000    0.1201    0.7059\n",
       "4         30.0   0.7    1.0000    0.1470    0.7059\n",
       "..         ...   ...       ...       ...       ...\n",
       "115       68.0   0.4    1.0003    0.0001    1.0000\n",
       "116       68.0   0.5    1.0002    0.0001    1.0000\n",
       "117       68.0   0.6    1.0002    0.0001    1.0000\n",
       "118       68.0   0.7    1.0002    0.0001    1.0000\n",
       "119       68.0   0.8    1.0002    0.0001    1.0000\n",
       "\n",
       "[120 rows x 5 columns]"
      ]
     },
     "execution_count": 32,
     "metadata": {},
     "output_type": "execute_result"
    }
   ],
   "source": [
    "summary"
   ]
  },
  {
   "cell_type": "code",
   "execution_count": 52,
   "id": "0ff2d8f4",
   "metadata": {},
   "outputs": [
    {
     "data": {
      "text/plain": [
       "<matplotlib.legend.Legend at 0x7efc634690d0>"
      ]
     },
     "execution_count": 52,
     "metadata": {},
     "output_type": "execute_result"
    },
    {
     "data": {
      "image/png": "[encoded data removed]",
      "text/plain": [
       "<Figure size 576x432 with 1 Axes>"
      ]
     },
     "metadata": {
      "needs_background": "light"
     },
     "output_type": "display_data"
    }
   ],
   "source": [
    "fig,ax=plt.subplots(figsize=(8,6))\n",
    "i=0\n",
    "for frac in np.linspace(0.3,0.8,6):\n",
    "    frac=round(frac,1)\n",
    "    ax.scatter(summary[summary['frac']==frac]['numPoints'],\n",
    "               summary[summary['frac']==frac]['maxRatio'],s=35-i,alpha=1,label=frac)\n",
    "    i+=6\n",
    "ax.set_xlabel('numPoints')\n",
    "ax.set_ylabel('maxRatio')\n",
    "ax.legend()"
   ]
  },
  {
   "cell_type": "code",
   "execution_count": 57,
   "id": "09f30632",
   "metadata": {},
   "outputs": [
    {
     "data": {
      "text/plain": [
       "<matplotlib.legend.Legend at 0x7efc648bacd0>"
      ]
     },
     "execution_count": 57,
     "metadata": {},
     "output_type": "execute_result"
    },
    {
     "data": {
      "image/png": "[encoded data removed]",
      "text/plain": [
       "<Figure size 576x432 with 1 Axes>"
      ]
     },
     "metadata": {
      "needs_background": "light"
     },
     "output_type": "display_data"
    }
   ],
   "source": [
    "fig,ax=plt.subplots(figsize=(8,6))\n",
    "i=0\n",
    "for numPoints in range(30,70,2):\n",
    "    frac=round(frac,1)\n",
    "    ax.plot(summary[summary['numPoints']==numPoints]['frac'],\n",
    "               summary[summary['numPoints']==numPoints]['maxRatio'],alpha=1,label=numPoints)\n",
    "    i+=6\n",
    "ax.set_xlabel('frac')\n",
    "ax.set_ylabel('maxRatio')\n",
    "ax.legend()"
   ]
  },
  {
   "cell_type": "code",
   "execution_count": null,
   "id": "e211e883",
   "metadata": {},
   "outputs": [],
   "source": [
    "import ipywidgets as widgets\n",
    "widgets.IntSlider(\n",
    "    value=7,\n",
    "    min=0,\n",
    "    max=10,\n",
    "    step=1,\n",
    "    description='Test:',\n",
    "    disabled=False,\n",
    "    continuous_update=False,\n",
    "    orientation='horizontal',\n",
    "    readout=True,\n",
    "    readout_format='d'\n",
    ")"
   ]
  },
  {
   "cell_type": "code",
   "execution_count": null,
   "id": "fadd4dc8",
   "metadata": {},
   "outputs": [],
   "source": [
    "tab_contents = ['numPoints', 'Fraction of absent']\n",
    "children = [widgets.Text(description=name) for name in tab_contents]\n",
    "children[3]=widgets.IntSlider(\n",
    "    value=7,\n",
    "    min=0,\n",
    "    max=10,\n",
    "    step=1,\n",
    "    description='Test:',\n",
    "    disabled=False,\n",
    "    continuous_update=False,\n",
    "    orientation='horizontal',\n",
    "    readout=True,\n",
    "    readout_format='d'\n",
    ")\n",
    "tab = widgets.Tab()\n",
    "tab.children = children\n",
    "for ii in range(len(children)):\n",
    "    tab.set_title(ii, f\"tab_{ii}\")\n",
    "tab"
   ]
  },
  {
   "cell_type": "code",
   "execution_count": null,
   "id": "325769b3",
   "metadata": {},
   "outputs": [],
   "source": [
    "out1 = widgets.Output()\n",
    "out2 = widgets.Output()\n",
    "data1 = pd.DataFrame(np.random.normal(size = 50))\n",
    "data2 = pd.DataFrame(np.random.normal(size = 100))\n",
    "\n",
    "tab = widgets.Tab(children = [out1, out2])\n",
    "tab.set_title(0, 'numPoints')\n",
    "tab.set_title(1, 'fraction of absent')\n",
    "display(tab)\n",
    "\n",
    "with out1:\n",
    "    fig1, axes1 = plt.subplots()\n",
    "    data1.hist(ax = axes1)\n",
    "    \n",
    "    widgets.IntSlider(\n",
    "    value=7,\n",
    "    min=0,\n",
    "    max=10,\n",
    "    step=1,\n",
    "    description='Test:',\n",
    "    disabled=False,\n",
    "    continuous_update=False,\n",
    "    orientation='horizontal',\n",
    "    readout=True,\n",
    "    readout_format='d'\n",
    ")\n",
    "    plt.show(fig1)\n",
    "\n",
    "with out2:\n",
    "    fig2, axes2 = plt.subplots()\n",
    "    data2.hist(ax = axes2)\n",
    "    plt.show(fig2)"
   ]
  },
  {
   "cell_type": "code",
   "execution_count": null,
   "id": "1d753aec",
   "metadata": {},
   "outputs": [],
   "source": []
  }
 ],
 "metadata": {
  "kernelspec": {
   "display_name": "Python 3 (ipykernel)",
   "language": "python",
   "name": "python3"
  },
  "language_info": {
   "codemirror_mode": {
    "name": "ipython",
    "version": 3
   },
   "file_extension": ".py",
   "mimetype": "text/x-python",
   "name": "python",
   "nbconvert_exporter": "python",
   "pygments_lexer": "ipython3",
   "version": "3.9.7"
  }
 },
 "nbformat": 4,
 "nbformat_minor": 5
}
