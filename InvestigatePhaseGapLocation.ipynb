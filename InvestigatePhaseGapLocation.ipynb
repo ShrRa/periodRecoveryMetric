{
 "cells": [
  {
   "cell_type": "code",
   "execution_count": 1,
   "id": "fdd3a7fd",
   "metadata": {},
   "outputs": [],
   "source": [
    "import os\n",
    "import numpy as np\n",
    "import pandas as pd\n",
    "import matplotlib.pyplot as plt\n",
    "%matplotlib inline\n",
    "\n",
    "from simcodes.fitters import ExtendedLS\n",
    "from gatspy.periodic import LombScargleMultiband"
   ]
  },
  {
   "cell_type": "code",
   "execution_count": 2,
   "id": "e7ba4ae2",
   "metadata": {},
   "outputs": [],
   "source": [
    "### Integrating with period determination\n",
    "library=pd.read_csv('simcodes/ZTF_VS_all_formatted.csv',index_col=0)\n",
    "library['unique_filts_']=library['unique_filts_'].apply(lambda x:list(map(eval,x[1:-1].split(' '))))\n",
    "library['ymean_by_filt_']=library['ymean_by_filt_'].apply(lambda x:np.array([float(k) for k in x[1:-1].split(' ') if len(k)>0]))\n",
    "library['theta']=library['theta'].apply(lambda x:np.array([float(k) for k in x[1:-1].split(' ') if len(k)>0]))"
   ]
  },
  {
   "cell_type": "code",
   "execution_count": 139,
   "id": "9cf1a4a0",
   "metadata": {},
   "outputs": [],
   "source": [
    "def determinePeriod(row,missingData:bool=True,numPoints=60,frac:float=0.3,plot:bool=True)->float:\n",
    "    \"\"\"\n",
    "    Determine period for a simulated light curve 'observed' with a given cadence. Credits for the simcode and \n",
    "    LCs to Kresimir Tisanic\n",
    "    \"\"\"\n",
    "    tt=[]\n",
    "    p=row['_best_period']\n",
    "    tt.append(np.linspace(0,p*5,numPoints))\n",
    "    \n",
    "    if missingData==True:\n",
    "        rem=(tt[0]%p)/p\n",
    "        i=0\n",
    "        while i<=round(1-frac,2):\n",
    "            t=np.delete(tt[0],(rem>i) & (rem<(i+frac)))\n",
    "            i+=0.1\n",
    "            tt.append(t)\n",
    "    periodMin=p*0.1\n",
    "    periodMax=p*2.1\n",
    "    pp={}\n",
    "    if plot==True:\n",
    "        fig=plt.figure(figsize=(5,5))\n",
    "        subplot=fig.add_subplot(1,1,1)\n",
    "    for i,t in enumerate(tt):\n",
    "        filts=[row['unique_filts_'][0]]*len(t)\n",
    "        ext=ExtendedLS(fit_period=True,optimizer_kwds=dict(quiet=True),Nterms_base=row['Nterms'])\n",
    "        ext.import_parameters(row)\n",
    "        mags = ext.predict(t=t,filts=filts)\n",
    "        magErrs=0.1*mags\n",
    "        ext.optimizer.period_range = (periodMin, periodMax)\n",
    "        p=ext.fit(t,mags,magErrs,filts).best_period\n",
    "        if plot==True:\n",
    "            subplot.scatter((t%p)/p,mags,s=1,label=str(i))\n",
    "        pp['detectedPeriod_'+str(i)]=p\n",
    "        pp['phase_'+str(i)]=(t%p)/p\n",
    "        pp['mags_'+str(i)]=mags\n",
    "    if plot==True:\n",
    "        plt.legend()\n",
    "    return pp"
   ]
  },
  {
   "cell_type": "code",
   "execution_count": 140,
   "id": "5e64d2f9",
   "metadata": {},
   "outputs": [],
   "source": [
    "libraryShort=library.iloc[0:3]"
   ]
  },
  {
   "cell_type": "code",
   "execution_count": 150,
   "id": "7a2dc9f5",
   "metadata": {},
   "outputs": [
    {
     "name": "stdout",
     "output_type": "stream",
     "text": [
      "30 : 0.3 0.4 0.5 0.6 0.7 0.8 \n",
      "35 : 0.3 0.4 0.5 0.6 0.7 0.8 \n",
      "40 : 0.3 0.4 0.5 0.6 0.7 0.8 \n"
     ]
    }
   ],
   "source": [
    "outputs={}\n",
    "summary=pd.DataFrame(columns=['numPoints','frac','maxAbsDiff','stdDiff'])\n",
    "for numPoints in range(30,41,5):\n",
    "    perDetermine={}\n",
    "    print(numPoints,': ',end='')\n",
    "    for frac in np.linspace(0.3,0.8,6):\n",
    "        frac=round(frac,1)\n",
    "        print(frac,end=' ')\n",
    "        libraryOutput=libraryShort.apply(lambda row:determinePeriod(row,frac=frac,\n",
    "                                                           plot=False,\n",
    "                                                           numPoints=numPoints), \n",
    "                                                           axis=1, result_type='expand')\n",
    "        workCols=[c for c in libraryOutput.columns if 'detectedPeriod' in c]\n",
    "        libraryOutput2=libraryOutput[workCols].div(libraryOutput['detectedPeriod_0'],axis=0)\n",
    "        libraryOutput2=libraryOutput2.rename({c:c.replace('detectedPeriod','periodRatio') for c in libraryOutput2.columns},\n",
    "                                             axis='columns')\n",
    "        \n",
    "        workCols=[c for c in libraryOutput.columns if 'periodRatio' in c]\n",
    "        libraryOutput2['maxRatio']=libraryOutput2[workCols].abs().max(axis='columns',skipna=True)\n",
    "        libraryOutput2['minRatio']=libraryOutput2[workCols].abs().min(axis='columns',skipna=True)\n",
    "        libraryOutput2['std']=libraryOutput2[workCols].std(axis='columns',skipna=True)\n",
    "        for c in libraryOutput.columns: \n",
    "            if 'phase' or 'mags' in c:\n",
    "                libraryOutput2[c]=libraryOutput[c]\n",
    "        \n",
    "        perDetermine[frac]=libraryOutput2\n",
    "        rec={'numPoints':numPoints,'frac':frac,\n",
    "             'maxRatio':round(libraryOutput2['maxRatio'].max(),4),\n",
    "             'minRatio':round(libraryOutput2['minRatio'].min(),4),\n",
    "             'stdDiff':round(libraryOutput2['std'].max(),4)}\n",
    "        summary=summary.append(rec,ignore_index=True)\n",
    "    print('')\n",
    "    outputs[numPoints]=perDetermine"
   ]
  },
  {
   "cell_type": "code",
   "execution_count": 151,
   "id": "0e945055",
   "metadata": {},
   "outputs": [],
   "source": [
    "test=outputs[40][0.3]"
   ]
  },
  {
   "cell_type": "code",
   "execution_count": 153,
   "id": "41729ee7",
   "metadata": {},
   "outputs": [
    {
     "data": {
      "text/plain": [
       "0    6.799575\n",
       "1    6.800041\n",
       "2    6.798895\n",
       "dtype: float64"
      ]
     },
     "execution_count": 153,
     "metadata": {},
     "output_type": "execute_result"
    }
   ],
   "source": [
    "workCols=[c for c in test.columns if 'periodRatio' in c]\n",
    "test[workCols].abs().max(axis='columns',skipna=True)"
   ]
  },
  {
   "cell_type": "code",
   "execution_count": 156,
   "id": "4413c6f6",
   "metadata": {},
   "outputs": [
    {
     "data": {
      "text/html": [
       "<div>\n",
       "<style scoped>\n",
       "    .dataframe tbody tr th:only-of-type {\n",
       "        vertical-align: middle;\n",
       "    }\n",
       "\n",
       "    .dataframe tbody tr th {\n",
       "        vertical-align: top;\n",
       "    }\n",
       "\n",
       "    .dataframe thead th {\n",
       "        text-align: right;\n",
       "    }\n",
       "</style>\n",
       "<table border=\"1\" class=\"dataframe\">\n",
       "  <thead>\n",
       "    <tr style=\"text-align: right;\">\n",
       "      <th></th>\n",
       "      <th>periodRatio_0</th>\n",
       "      <th>periodRatio_1</th>\n",
       "      <th>periodRatio_2</th>\n",
       "      <th>periodRatio_3</th>\n",
       "      <th>periodRatio_4</th>\n",
       "      <th>periodRatio_5</th>\n",
       "      <th>periodRatio_6</th>\n",
       "      <th>periodRatio_7</th>\n",
       "      <th>periodRatio_8</th>\n",
       "      <th>maxRatio</th>\n",
       "      <th>...</th>\n",
       "      <th>mags_5</th>\n",
       "      <th>detectedPeriod_6</th>\n",
       "      <th>phase_6</th>\n",
       "      <th>mags_6</th>\n",
       "      <th>detectedPeriod_7</th>\n",
       "      <th>phase_7</th>\n",
       "      <th>mags_7</th>\n",
       "      <th>detectedPeriod_8</th>\n",
       "      <th>phase_8</th>\n",
       "      <th>mags_8</th>\n",
       "    </tr>\n",
       "  </thead>\n",
       "  <tbody>\n",
       "    <tr>\n",
       "      <th>0</th>\n",
       "      <td>1.0</td>\n",
       "      <td>1.000000</td>\n",
       "      <td>1.0</td>\n",
       "      <td>1.0</td>\n",
       "      <td>1.0</td>\n",
       "      <td>1.0</td>\n",
       "      <td>1.0</td>\n",
       "      <td>1.000000</td>\n",
       "      <td>6.799575</td>\n",
       "      <td>NaN</td>\n",
       "      <td>...</td>\n",
       "      <td>[21.58546729, 21.713365728119854, 21.705166264...</td>\n",
       "      <td>0.034811</td>\n",
       "      <td>[0.0, 0.8718192918192921, 0.7436385836385843, ...</td>\n",
       "      <td>[21.58546729, 21.713365728119854, 21.705166264...</td>\n",
       "      <td>0.034811</td>\n",
       "      <td>[0.0, 0.8718192918192921, 0.7436385836385843, ...</td>\n",
       "      <td>[21.58546729, 21.713365728119854, 21.705166264...</td>\n",
       "      <td>0.236698</td>\n",
       "      <td>[0.0, 0.12821672771672774, 0.25643345543345547...</td>\n",
       "      <td>[21.58546729, 21.713365728119854, 21.705166264...</td>\n",
       "    </tr>\n",
       "    <tr>\n",
       "      <th>1</th>\n",
       "      <td>1.0</td>\n",
       "      <td>6.800041</td>\n",
       "      <td>1.0</td>\n",
       "      <td>1.0</td>\n",
       "      <td>1.0</td>\n",
       "      <td>1.0</td>\n",
       "      <td>1.0</td>\n",
       "      <td>1.000000</td>\n",
       "      <td>6.798895</td>\n",
       "      <td>NaN</td>\n",
       "      <td>...</td>\n",
       "      <td>[19.57791128, 19.43939095713814, 19.3706853590...</td>\n",
       "      <td>16.670372</td>\n",
       "      <td>[0.0, 0.8718192918192922, 0.7436385836385843, ...</td>\n",
       "      <td>[19.57791128, 19.43939095713814, 19.3706853590...</td>\n",
       "      <td>16.670372</td>\n",
       "      <td>[0.0, 0.8718192918192922, 0.7436385836385843, ...</td>\n",
       "      <td>[19.57791128, 19.43939095713814, 19.3706853590...</td>\n",
       "      <td>113.340117</td>\n",
       "      <td>[0.0, 0.12822954822954824, 0.2564590964590965,...</td>\n",
       "      <td>[19.57791128, 19.43939095713814, 19.3706853590...</td>\n",
       "    </tr>\n",
       "    <tr>\n",
       "      <th>2</th>\n",
       "      <td>1.0</td>\n",
       "      <td>1.000000</td>\n",
       "      <td>1.0</td>\n",
       "      <td>1.0</td>\n",
       "      <td>1.0</td>\n",
       "      <td>1.0</td>\n",
       "      <td>1.0</td>\n",
       "      <td>0.772732</td>\n",
       "      <td>6.798895</td>\n",
       "      <td>NaN</td>\n",
       "      <td>...</td>\n",
       "      <td>[19.31244542, 19.2233348204508, 19.31253353123...</td>\n",
       "      <td>10.361732</td>\n",
       "      <td>[0.0, 0.8718192918192915, 0.743638583638583, 0...</td>\n",
       "      <td>[19.31244542, 19.2233348204508, 19.31253353123...</td>\n",
       "      <td>8.006844</td>\n",
       "      <td>[0.0, 0.12822954822954774, 0.2564590964590955,...</td>\n",
       "      <td>[19.31244542, 19.2233348204508, 19.31253353123...</td>\n",
       "      <td>70.448329</td>\n",
       "      <td>[0.0, 0.1282295482295482, 0.2564590964590964, ...</td>\n",
       "      <td>[19.31244542, 19.2233348204508, 19.31253353123...</td>\n",
       "    </tr>\n",
       "  </tbody>\n",
       "</table>\n",
       "<p>3 rows × 39 columns</p>\n",
       "</div>"
      ],
      "text/plain": [
       "   periodRatio_0  periodRatio_1  periodRatio_2  periodRatio_3  periodRatio_4  \\\n",
       "0            1.0       1.000000            1.0            1.0            1.0   \n",
       "1            1.0       6.800041            1.0            1.0            1.0   \n",
       "2            1.0       1.000000            1.0            1.0            1.0   \n",
       "\n",
       "   periodRatio_5  periodRatio_6  periodRatio_7  periodRatio_8  maxRatio  ...  \\\n",
       "0            1.0            1.0       1.000000       6.799575       NaN  ...   \n",
       "1            1.0            1.0       1.000000       6.798895       NaN  ...   \n",
       "2            1.0            1.0       0.772732       6.798895       NaN  ...   \n",
       "\n",
       "                                              mags_5  detectedPeriod_6  \\\n",
       "0  [21.58546729, 21.713365728119854, 21.705166264...          0.034811   \n",
       "1  [19.57791128, 19.43939095713814, 19.3706853590...         16.670372   \n",
       "2  [19.31244542, 19.2233348204508, 19.31253353123...         10.361732   \n",
       "\n",
       "                                             phase_6  \\\n",
       "0  [0.0, 0.8718192918192921, 0.7436385836385843, ...   \n",
       "1  [0.0, 0.8718192918192922, 0.7436385836385843, ...   \n",
       "2  [0.0, 0.8718192918192915, 0.743638583638583, 0...   \n",
       "\n",
       "                                              mags_6 detectedPeriod_7  \\\n",
       "0  [21.58546729, 21.713365728119854, 21.705166264...         0.034811   \n",
       "1  [19.57791128, 19.43939095713814, 19.3706853590...        16.670372   \n",
       "2  [19.31244542, 19.2233348204508, 19.31253353123...         8.006844   \n",
       "\n",
       "                                             phase_7  \\\n",
       "0  [0.0, 0.8718192918192921, 0.7436385836385843, ...   \n",
       "1  [0.0, 0.8718192918192922, 0.7436385836385843, ...   \n",
       "2  [0.0, 0.12822954822954774, 0.2564590964590955,...   \n",
       "\n",
       "                                              mags_7 detectedPeriod_8  \\\n",
       "0  [21.58546729, 21.713365728119854, 21.705166264...         0.236698   \n",
       "1  [19.57791128, 19.43939095713814, 19.3706853590...       113.340117   \n",
       "2  [19.31244542, 19.2233348204508, 19.31253353123...        70.448329   \n",
       "\n",
       "                                             phase_8  \\\n",
       "0  [0.0, 0.12821672771672774, 0.25643345543345547...   \n",
       "1  [0.0, 0.12822954822954824, 0.2564590964590965,...   \n",
       "2  [0.0, 0.1282295482295482, 0.2564590964590964, ...   \n",
       "\n",
       "                                              mags_8  \n",
       "0  [21.58546729, 21.713365728119854, 21.705166264...  \n",
       "1  [19.57791128, 19.43939095713814, 19.3706853590...  \n",
       "2  [19.31244542, 19.2233348204508, 19.31253353123...  \n",
       "\n",
       "[3 rows x 39 columns]"
      ]
     },
     "execution_count": 156,
     "metadata": {},
     "output_type": "execute_result"
    }
   ],
   "source": [
    "test"
   ]
  },
  {
   "cell_type": "code",
   "execution_count": 127,
   "id": "e257595c",
   "metadata": {},
   "outputs": [
    {
     "data": {
      "text/html": [
       "<div>\n",
       "<style scoped>\n",
       "    .dataframe tbody tr th:only-of-type {\n",
       "        vertical-align: middle;\n",
       "    }\n",
       "\n",
       "    .dataframe tbody tr th {\n",
       "        vertical-align: top;\n",
       "    }\n",
       "\n",
       "    .dataframe thead th {\n",
       "        text-align: right;\n",
       "    }\n",
       "</style>\n",
       "<table border=\"1\" class=\"dataframe\">\n",
       "  <thead>\n",
       "    <tr style=\"text-align: right;\">\n",
       "      <th></th>\n",
       "      <th>diffPeriod_0</th>\n",
       "      <th>diffPeriod_1</th>\n",
       "      <th>diffPeriod_2</th>\n",
       "      <th>diffPeriod_3</th>\n",
       "      <th>diffPeriod_4</th>\n",
       "      <th>diffPeriod_5</th>\n",
       "      <th>diffPeriod_6</th>\n",
       "      <th>diffPeriod_7</th>\n",
       "      <th>diffPeriod_8</th>\n",
       "    </tr>\n",
       "  </thead>\n",
       "  <tbody>\n",
       "    <tr>\n",
       "      <th>0</th>\n",
       "      <td>1.0</td>\n",
       "      <td>1.000000</td>\n",
       "      <td>1.0</td>\n",
       "      <td>1.0</td>\n",
       "      <td>1.0</td>\n",
       "      <td>1.0</td>\n",
       "      <td>1.0</td>\n",
       "      <td>1.000000</td>\n",
       "      <td>6.799575</td>\n",
       "    </tr>\n",
       "    <tr>\n",
       "      <th>1</th>\n",
       "      <td>1.0</td>\n",
       "      <td>6.800041</td>\n",
       "      <td>1.0</td>\n",
       "      <td>1.0</td>\n",
       "      <td>1.0</td>\n",
       "      <td>1.0</td>\n",
       "      <td>1.0</td>\n",
       "      <td>1.000000</td>\n",
       "      <td>6.798895</td>\n",
       "    </tr>\n",
       "    <tr>\n",
       "      <th>2</th>\n",
       "      <td>1.0</td>\n",
       "      <td>1.000000</td>\n",
       "      <td>1.0</td>\n",
       "      <td>1.0</td>\n",
       "      <td>1.0</td>\n",
       "      <td>1.0</td>\n",
       "      <td>1.0</td>\n",
       "      <td>0.772732</td>\n",
       "      <td>6.798895</td>\n",
       "    </tr>\n",
       "  </tbody>\n",
       "</table>\n",
       "</div>"
      ],
      "text/plain": [
       "   diffPeriod_0  diffPeriod_1  diffPeriod_2  diffPeriod_3  diffPeriod_4  \\\n",
       "0           1.0      1.000000           1.0           1.0           1.0   \n",
       "1           1.0      6.800041           1.0           1.0           1.0   \n",
       "2           1.0      1.000000           1.0           1.0           1.0   \n",
       "\n",
       "   diffPeriod_5  diffPeriod_6  diffPeriod_7  diffPeriod_8  \n",
       "0           1.0           1.0      1.000000      6.799575  \n",
       "1           1.0           1.0      1.000000      6.798895  \n",
       "2           1.0           1.0      0.772732      6.798895  "
      ]
     },
     "execution_count": 127,
     "metadata": {},
     "output_type": "execute_result"
    }
   ],
   "source": [
    "workCols=[c for c in test.columns if 'diffPeriod' in c]\n",
    "test[workCols].div(test['diffPeriod_0'],axis=0)"
   ]
  },
  {
   "cell_type": "code",
   "execution_count": 126,
   "id": "ccbdfbb3",
   "metadata": {},
   "outputs": [
    {
     "data": {
      "text/html": [
       "<div>\n",
       "<style scoped>\n",
       "    .dataframe tbody tr th:only-of-type {\n",
       "        vertical-align: middle;\n",
       "    }\n",
       "\n",
       "    .dataframe tbody tr th {\n",
       "        vertical-align: top;\n",
       "    }\n",
       "\n",
       "    .dataframe thead th {\n",
       "        text-align: right;\n",
       "    }\n",
       "</style>\n",
       "<table border=\"1\" class=\"dataframe\">\n",
       "  <thead>\n",
       "    <tr style=\"text-align: right;\">\n",
       "      <th></th>\n",
       "      <th>diffPeriod_0</th>\n",
       "      <th>diffPeriod_1</th>\n",
       "      <th>diffPeriod_2</th>\n",
       "      <th>diffPeriod_3</th>\n",
       "      <th>diffPeriod_4</th>\n",
       "      <th>diffPeriod_5</th>\n",
       "      <th>diffPeriod_6</th>\n",
       "      <th>diffPeriod_7</th>\n",
       "      <th>diffPeriod_8</th>\n",
       "    </tr>\n",
       "  </thead>\n",
       "  <tbody>\n",
       "    <tr>\n",
       "      <th>0</th>\n",
       "      <td>0.0</td>\n",
       "      <td>0.00000</td>\n",
       "      <td>0.0</td>\n",
       "      <td>0.0</td>\n",
       "      <td>0.0</td>\n",
       "      <td>0.0</td>\n",
       "      <td>0.0</td>\n",
       "      <td>0.000000</td>\n",
       "      <td>579.957528</td>\n",
       "    </tr>\n",
       "    <tr>\n",
       "      <th>1</th>\n",
       "      <td>0.0</td>\n",
       "      <td>580.00405</td>\n",
       "      <td>0.0</td>\n",
       "      <td>0.0</td>\n",
       "      <td>0.0</td>\n",
       "      <td>0.0</td>\n",
       "      <td>0.0</td>\n",
       "      <td>0.000000</td>\n",
       "      <td>579.889545</td>\n",
       "    </tr>\n",
       "    <tr>\n",
       "      <th>2</th>\n",
       "      <td>0.0</td>\n",
       "      <td>0.00000</td>\n",
       "      <td>0.0</td>\n",
       "      <td>0.0</td>\n",
       "      <td>0.0</td>\n",
       "      <td>0.0</td>\n",
       "      <td>0.0</td>\n",
       "      <td>-22.726781</td>\n",
       "      <td>579.889545</td>\n",
       "    </tr>\n",
       "  </tbody>\n",
       "</table>\n",
       "</div>"
      ],
      "text/plain": [
       "   diffPeriod_0  diffPeriod_1  diffPeriod_2  diffPeriod_3  diffPeriod_4  \\\n",
       "0           0.0       0.00000           0.0           0.0           0.0   \n",
       "1           0.0     580.00405           0.0           0.0           0.0   \n",
       "2           0.0       0.00000           0.0           0.0           0.0   \n",
       "\n",
       "   diffPeriod_5  diffPeriod_6  diffPeriod_7  diffPeriod_8  \n",
       "0           0.0           0.0      0.000000    579.957528  \n",
       "1           0.0           0.0      0.000000    579.889545  \n",
       "2           0.0           0.0    -22.726781    579.889545  "
      ]
     },
     "execution_count": 126,
     "metadata": {},
     "output_type": "execute_result"
    }
   ],
   "source": [
    "workCols=[c for c in test.columns if 'diffPeriod' in c]\n",
    "test[workCols].sub(test['diffPeriod_0'],axis='index').div(test['diffPeriod_0'],axis=0)*100"
   ]
  },
  {
   "cell_type": "code",
   "execution_count": 106,
   "id": "5c4dc8fd",
   "metadata": {},
   "outputs": [
    {
     "data": {
      "text/html": [
       "<div>\n",
       "<style scoped>\n",
       "    .dataframe tbody tr th:only-of-type {\n",
       "        vertical-align: middle;\n",
       "    }\n",
       "\n",
       "    .dataframe tbody tr th {\n",
       "        vertical-align: top;\n",
       "    }\n",
       "\n",
       "    .dataframe thead th {\n",
       "        text-align: right;\n",
       "    }\n",
       "</style>\n",
       "<table border=\"1\" class=\"dataframe\">\n",
       "  <thead>\n",
       "    <tr style=\"text-align: right;\">\n",
       "      <th></th>\n",
       "      <th>diffPeriod_0</th>\n",
       "      <th>diffPeriod_1</th>\n",
       "      <th>diffPeriod_2</th>\n",
       "      <th>diffPeriod_3</th>\n",
       "      <th>diffPeriod_4</th>\n",
       "      <th>diffPeriod_5</th>\n",
       "      <th>diffPeriod_6</th>\n",
       "      <th>diffPeriod_7</th>\n",
       "      <th>diffPeriod_8</th>\n",
       "      <th>maxAbsDiff</th>\n",
       "      <th>...</th>\n",
       "      <th>phase_4</th>\n",
       "      <th>mags_4</th>\n",
       "      <th>phase_5</th>\n",
       "      <th>mags_5</th>\n",
       "      <th>phase_6</th>\n",
       "      <th>mags_6</th>\n",
       "      <th>phase_7</th>\n",
       "      <th>mags_7</th>\n",
       "      <th>phase_8</th>\n",
       "      <th>mags_8</th>\n",
       "    </tr>\n",
       "  </thead>\n",
       "  <tbody>\n",
       "    <tr>\n",
       "      <th>0</th>\n",
       "      <td>0.049315</td>\n",
       "      <td>0.034811</td>\n",
       "      <td>0.049315</td>\n",
       "      <td>0.049315</td>\n",
       "      <td>0.049315</td>\n",
       "      <td>0.049315</td>\n",
       "      <td>0.034811</td>\n",
       "      <td>0.049315</td>\n",
       "      <td>0.049317</td>\n",
       "      <td>29.410941</td>\n",
       "      <td>...</td>\n",
       "      <td>[0.0, 0.8276190476190478, 0.3104761904761914, ...</td>\n",
       "      <td>[21.58546729, 21.72763273673688, 21.2554999217...</td>\n",
       "      <td>[0.0, 0.8276190476190478, 0.6552380952380957, ...</td>\n",
       "      <td>[21.58546729, 21.72763273673688, 21.6191782937...</td>\n",
       "      <td>[0.0, 0.17244663382594452, 0.34489326765188905...</td>\n",
       "      <td>[21.58546729, 21.72763273673688, 21.6191782937...</td>\n",
       "      <td>[0.0, 0.8276190476190478, 0.6552380952380957, ...</td>\n",
       "      <td>[21.58546729, 21.72763273673688, 21.6191782937...</td>\n",
       "      <td>[0.0, 0.8275832877212191, 0.6551665754424383, ...</td>\n",
       "      <td>[21.58546729, 21.72763273673688, 21.6191782937...</td>\n",
       "    </tr>\n",
       "    <tr>\n",
       "      <th>1</th>\n",
       "      <td>23.616085</td>\n",
       "      <td>23.616577</td>\n",
       "      <td>23.616085</td>\n",
       "      <td>16.670372</td>\n",
       "      <td>23.616085</td>\n",
       "      <td>23.616085</td>\n",
       "      <td>16.670372</td>\n",
       "      <td>23.616085</td>\n",
       "      <td>16.670372</td>\n",
       "      <td>29.410941</td>\n",
       "      <td>...</td>\n",
       "      <td>[0.0, 0.8276190476190478, 0.3104761904761912, ...</td>\n",
       "      <td>[19.57791128, 19.404350120069534, 19.712335640...</td>\n",
       "      <td>[0.0, 0.8276190476190478, 0.6552380952380956, ...</td>\n",
       "      <td>[19.57791128, 19.404350120069534, 19.388824326...</td>\n",
       "      <td>[0.0, 0.1724466338259445, 0.344893267651889, 0...</td>\n",
       "      <td>[19.57791128, 19.404350120069534, 19.388824326...</td>\n",
       "      <td>[0.0, 0.8276190476190478, 0.6552380952380956, ...</td>\n",
       "      <td>[19.57791128, 19.404350120069534, 19.388824326...</td>\n",
       "      <td>[0.0, 0.1724466338259445, 0.344893267651889, 0...</td>\n",
       "      <td>[19.57791128, 19.404350120069534, 19.388824326...</td>\n",
       "    </tr>\n",
       "    <tr>\n",
       "      <th>2</th>\n",
       "      <td>14.678948</td>\n",
       "      <td>10.361732</td>\n",
       "      <td>14.678948</td>\n",
       "      <td>14.678948</td>\n",
       "      <td>14.678948</td>\n",
       "      <td>14.678948</td>\n",
       "      <td>10.361732</td>\n",
       "      <td>14.678948</td>\n",
       "      <td>70.448329</td>\n",
       "      <td>379.927633</td>\n",
       "      <td>...</td>\n",
       "      <td>[0.0, 0.8276190476190473, 0.310476190476189, 0...</td>\n",
       "      <td>[19.31244542, 19.234473144352695, 19.782243521...</td>\n",
       "      <td>[0.0, 0.8276190476190473, 0.6552380952380945, ...</td>\n",
       "      <td>[19.31244542, 19.234473144352695, 19.453136619...</td>\n",
       "      <td>[0.0, 0.17244663382594366, 0.3448932676518873,...</td>\n",
       "      <td>[19.31244542, 19.234473144352695, 19.453136619...</td>\n",
       "      <td>[0.0, 0.8276190476190473, 0.6552380952380945, ...</td>\n",
       "      <td>[19.31244542, 19.234473144352695, 19.453136619...</td>\n",
       "      <td>[0.0, 0.17244663382594413, 0.34489326765188827...</td>\n",
       "      <td>[19.31244542, 19.234473144352695, 19.453136619...</td>\n",
       "    </tr>\n",
       "  </tbody>\n",
       "</table>\n",
       "<p>3 rows × 29 columns</p>\n",
       "</div>"
      ],
      "text/plain": [
       "   diffPeriod_0  diffPeriod_1  diffPeriod_2  diffPeriod_3  diffPeriod_4  \\\n",
       "0      0.049315      0.034811      0.049315      0.049315      0.049315   \n",
       "1     23.616085     23.616577     23.616085     16.670372     23.616085   \n",
       "2     14.678948     10.361732     14.678948     14.678948     14.678948   \n",
       "\n",
       "   diffPeriod_5  diffPeriod_6  diffPeriod_7  diffPeriod_8  maxAbsDiff  ...  \\\n",
       "0      0.049315      0.034811      0.049315      0.049317   29.410941  ...   \n",
       "1     23.616085     16.670372     23.616085     16.670372   29.410941  ...   \n",
       "2     14.678948     10.361732     14.678948     70.448329  379.927633  ...   \n",
       "\n",
       "                                             phase_4  \\\n",
       "0  [0.0, 0.8276190476190478, 0.3104761904761914, ...   \n",
       "1  [0.0, 0.8276190476190478, 0.3104761904761912, ...   \n",
       "2  [0.0, 0.8276190476190473, 0.310476190476189, 0...   \n",
       "\n",
       "                                              mags_4  \\\n",
       "0  [21.58546729, 21.72763273673688, 21.2554999217...   \n",
       "1  [19.57791128, 19.404350120069534, 19.712335640...   \n",
       "2  [19.31244542, 19.234473144352695, 19.782243521...   \n",
       "\n",
       "                                             phase_5  \\\n",
       "0  [0.0, 0.8276190476190478, 0.6552380952380957, ...   \n",
       "1  [0.0, 0.8276190476190478, 0.6552380952380956, ...   \n",
       "2  [0.0, 0.8276190476190473, 0.6552380952380945, ...   \n",
       "\n",
       "                                              mags_5  \\\n",
       "0  [21.58546729, 21.72763273673688, 21.6191782937...   \n",
       "1  [19.57791128, 19.404350120069534, 19.388824326...   \n",
       "2  [19.31244542, 19.234473144352695, 19.453136619...   \n",
       "\n",
       "                                             phase_6  \\\n",
       "0  [0.0, 0.17244663382594452, 0.34489326765188905...   \n",
       "1  [0.0, 0.1724466338259445, 0.344893267651889, 0...   \n",
       "2  [0.0, 0.17244663382594366, 0.3448932676518873,...   \n",
       "\n",
       "                                              mags_6  \\\n",
       "0  [21.58546729, 21.72763273673688, 21.6191782937...   \n",
       "1  [19.57791128, 19.404350120069534, 19.388824326...   \n",
       "2  [19.31244542, 19.234473144352695, 19.453136619...   \n",
       "\n",
       "                                             phase_7  \\\n",
       "0  [0.0, 0.8276190476190478, 0.6552380952380957, ...   \n",
       "1  [0.0, 0.8276190476190478, 0.6552380952380956, ...   \n",
       "2  [0.0, 0.8276190476190473, 0.6552380952380945, ...   \n",
       "\n",
       "                                              mags_7  \\\n",
       "0  [21.58546729, 21.72763273673688, 21.6191782937...   \n",
       "1  [19.57791128, 19.404350120069534, 19.388824326...   \n",
       "2  [19.31244542, 19.234473144352695, 19.453136619...   \n",
       "\n",
       "                                             phase_8  \\\n",
       "0  [0.0, 0.8275832877212191, 0.6551665754424383, ...   \n",
       "1  [0.0, 0.1724466338259445, 0.344893267651889, 0...   \n",
       "2  [0.0, 0.17244663382594413, 0.34489326765188827...   \n",
       "\n",
       "                                              mags_8  \n",
       "0  [21.58546729, 21.72763273673688, 21.6191782937...  \n",
       "1  [19.57791128, 19.404350120069534, 19.388824326...  \n",
       "2  [19.31244542, 19.234473144352695, 19.453136619...  \n",
       "\n",
       "[3 rows x 29 columns]"
      ]
     },
     "execution_count": 106,
     "metadata": {},
     "output_type": "execute_result"
    }
   ],
   "source": [
    "outputs[30][0.3]"
   ]
  },
  {
   "cell_type": "code",
   "execution_count": 107,
   "id": "b6859371",
   "metadata": {},
   "outputs": [
    {
     "data": {
      "text/plain": [
       "<matplotlib.collections.PathCollection at 0x7fa66d084e80>"
      ]
     },
     "execution_count": 107,
     "metadata": {},
     "output_type": "execute_result"
    },
    {
     "data": {
      "image/png": "[encoded data removed]",
      "text/plain": [
       "<Figure size 360x360 with 1 Axes>"
      ]
     },
     "metadata": {
      "needs_background": "light"
     },
     "output_type": "display_data"
    }
   ],
   "source": [
    "numPoints=30\n",
    "frac=0.3\n",
    "fig,ax=plt.subplots(figsize=(5,5))\n",
    "ax.scatter(outputs[numPoints][frac].iloc[0]['phase_4'],outputs[numPoints][frac].iloc[0]['mags_4'],s=1)\n",
    "ax.scatter(outputs[40][frac].iloc[0]['phase_4'],outputs[40][frac].iloc[0]['mags_4'],s=1)"
   ]
  },
  {
   "cell_type": "code",
   "execution_count": 73,
   "id": "726f1843",
   "metadata": {},
   "outputs": [
    {
     "data": {
      "image/png": "[encoded data removed]",
      "text/plain": [
       "<Figure size 360x216 with 1 Axes>"
      ]
     },
     "metadata": {
      "needs_background": "light"
     },
     "output_type": "display_data"
    },
    {
     "data": {
      "image/png": "[encoded data removed]",
      "text/plain": [
       "<Figure size 360x216 with 1 Axes>"
      ]
     },
     "metadata": {
      "needs_background": "light"
     },
     "output_type": "display_data"
    },
    {
     "data": {
      "image/png": "[encoded data removed]",
      "text/plain": [
       "<Figure size 360x216 with 1 Axes>"
      ]
     },
     "metadata": {
      "needs_background": "light"
     },
     "output_type": "display_data"
    },
    {
     "data": {
      "image/png": "[encoded data removed]",
      "text/plain": [
       "<Figure size 360x216 with 1 Axes>"
      ]
     },
     "metadata": {
      "needs_background": "light"
     },
     "output_type": "display_data"
    },
    {
     "data": {
      "image/png": "[encoded data removed]",
      "text/plain": [
       "<Figure size 360x216 with 1 Axes>"
      ]
     },
     "metadata": {
      "needs_background": "light"
     },
     "output_type": "display_data"
    },
    {
     "data": {
      "image/png": "[encoded data removed]",
      "text/plain": [
       "<Figure size 360x216 with 1 Axes>"
      ]
     },
     "metadata": {
      "needs_background": "light"
     },
     "output_type": "display_data"
    },
    {
     "data": {
      "image/png": "[encoded data removed]",
      "text/plain": [
       "<Figure size 360x216 with 1 Axes>"
      ]
     },
     "metadata": {
      "needs_background": "light"
     },
     "output_type": "display_data"
    },
    {
     "data": {
      "image/png": "[encoded data removed]",
      "text/plain": [
       "<Figure size 360x216 with 1 Axes>"
      ]
     },
     "metadata": {
      "needs_background": "light"
     },
     "output_type": "display_data"
    },
    {
     "data": {
      "image/png": "[encoded data removed]",
      "text/plain": [
       "<Figure size 360x216 with 1 Axes>"
      ]
     },
     "metadata": {
      "needs_background": "light"
     },
     "output_type": "display_data"
    },
    {
     "data": {
      "image/png": "[encoded data removed]",
      "text/plain": [
       "<Figure size 360x216 with 1 Axes>"
      ]
     },
     "metadata": {
      "needs_background": "light"
     },
     "output_type": "display_data"
    },
    {
     "data": {
      "image/png": "[encoded data removed]",
      "text/plain": [
       "<Figure size 360x216 with 1 Axes>"
      ]
     },
     "metadata": {
      "needs_background": "light"
     },
     "output_type": "display_data"
    },
    {
     "data": {
      "image/png": "[encoded data removed]",
      "text/plain": [
       "<Figure size 360x216 with 1 Axes>"
      ]
     },
     "metadata": {
      "needs_background": "light"
     },
     "output_type": "display_data"
    },
    {
     "data": {
      "image/png": "[encoded data removed]",
      "text/plain": [
       "<Figure size 360x216 with 1 Axes>"
      ]
     },
     "metadata": {
      "needs_background": "light"
     },
     "output_type": "display_data"
    },
    {
     "data": {
      "image/png": "[encoded data removed]",
      "text/plain": [
       "<Figure size 360x216 with 1 Axes>"
      ]
     },
     "metadata": {
      "needs_background": "light"
     },
     "output_type": "display_data"
    },
    {
     "data": {
      "image/png": "[encoded data removed]",
      "text/plain": [
       "<Figure size 360x216 with 1 Axes>"
      ]
     },
     "metadata": {
      "needs_background": "light"
     },
     "output_type": "display_data"
    },
    {
     "data": {
      "image/png": "[encoded data removed]",
      "text/plain": [
       "<Figure size 360x216 with 1 Axes>"
      ]
     },
     "metadata": {
      "needs_background": "light"
     },
     "output_type": "display_data"
    },
    {
     "data": {
      "image/png": "[encoded data removed]",
      "text/plain": [
       "<Figure size 360x216 with 1 Axes>"
      ]
     },
     "metadata": {
      "needs_background": "light"
     },
     "output_type": "display_data"
    },
    {
     "data": {
      "image/png": "[encoded data removed]",
      "text/plain": [
       "<Figure size 360x216 with 1 Axes>"
      ]
     },
     "metadata": {
      "needs_background": "light"
     },
     "output_type": "display_data"
    },
    {
     "data": {
      "image/png": "[encoded data removed]",
      "text/plain": [
       "<Figure size 360x216 with 1 Axes>"
      ]
     },
     "metadata": {
      "needs_background": "light"
     },
     "output_type": "display_data"
    },
    {
     "data": {
      "image/png": "[encoded data removed]",
      "text/plain": [
       "<Figure size 360x216 with 1 Axes>"
      ]
     },
     "metadata": {
      "needs_background": "light"
     },
     "output_type": "display_data"
    }
   ],
   "source": [
    "for numPoints in range(30,70,2):\n",
    "    fig,ax=plt.subplots(figsize=(5,3))\n",
    "    ax.plot(summary[summary['numPoints']==numPoints]['frac'],\n",
    "                summary[summary['numPoints']==numPoints]['maxAbsDiff'],label=str(numPoints))\n",
    "    ax.legend()"
   ]
  },
  {
   "cell_type": "code",
   "execution_count": 76,
   "id": "0e221ab1",
   "metadata": {},
   "outputs": [
    {
     "data": {
      "text/html": [
       "<div>\n",
       "<style scoped>\n",
       "    .dataframe tbody tr th:only-of-type {\n",
       "        vertical-align: middle;\n",
       "    }\n",
       "\n",
       "    .dataframe tbody tr th {\n",
       "        vertical-align: top;\n",
       "    }\n",
       "\n",
       "    .dataframe thead th {\n",
       "        text-align: right;\n",
       "    }\n",
       "</style>\n",
       "<table border=\"1\" class=\"dataframe\">\n",
       "  <thead>\n",
       "    <tr style=\"text-align: right;\">\n",
       "      <th></th>\n",
       "      <th>detectedPeriod_0</th>\n",
       "      <th>detectedPeriod_1</th>\n",
       "      <th>detectedPeriod_2</th>\n",
       "      <th>detectedPeriod_3</th>\n",
       "      <th>detectedPeriod_4</th>\n",
       "      <th>detectedPeriod_5</th>\n",
       "      <th>maxAbsDiff</th>\n",
       "      <th>std</th>\n",
       "    </tr>\n",
       "  </thead>\n",
       "  <tbody>\n",
       "    <tr>\n",
       "      <th>0</th>\n",
       "      <td>NaN</td>\n",
       "      <td>0.000000</td>\n",
       "      <td>0.000000</td>\n",
       "      <td>0.0</td>\n",
       "      <td>0.0</td>\n",
       "      <td>0.001379</td>\n",
       "      <td>0.001379</td>\n",
       "      <td>0.000617</td>\n",
       "    </tr>\n",
       "    <tr>\n",
       "      <th>1</th>\n",
       "      <td>NaN</td>\n",
       "      <td>0.018182</td>\n",
       "      <td>-0.018182</td>\n",
       "      <td>0.0</td>\n",
       "      <td>0.0</td>\n",
       "      <td>0.000000</td>\n",
       "      <td>0.018182</td>\n",
       "      <td>0.012856</td>\n",
       "    </tr>\n",
       "    <tr>\n",
       "      <th>2</th>\n",
       "      <td>NaN</td>\n",
       "      <td>0.000000</td>\n",
       "      <td>0.000000</td>\n",
       "      <td>0.0</td>\n",
       "      <td>0.0</td>\n",
       "      <td>0.000000</td>\n",
       "      <td>0.000000</td>\n",
       "      <td>0.000000</td>\n",
       "    </tr>\n",
       "    <tr>\n",
       "      <th>3</th>\n",
       "      <td>NaN</td>\n",
       "      <td>0.000000</td>\n",
       "      <td>0.000000</td>\n",
       "      <td>0.0</td>\n",
       "      <td>0.0</td>\n",
       "      <td>0.001379</td>\n",
       "      <td>0.001379</td>\n",
       "      <td>0.000617</td>\n",
       "    </tr>\n",
       "    <tr>\n",
       "      <th>4</th>\n",
       "      <td>NaN</td>\n",
       "      <td>0.000000</td>\n",
       "      <td>0.000000</td>\n",
       "      <td>0.0</td>\n",
       "      <td>0.0</td>\n",
       "      <td>0.000000</td>\n",
       "      <td>0.000000</td>\n",
       "      <td>0.000000</td>\n",
       "    </tr>\n",
       "    <tr>\n",
       "      <th>5</th>\n",
       "      <td>NaN</td>\n",
       "      <td>0.000000</td>\n",
       "      <td>0.000000</td>\n",
       "      <td>0.0</td>\n",
       "      <td>0.0</td>\n",
       "      <td>0.001379</td>\n",
       "      <td>0.001379</td>\n",
       "      <td>0.000617</td>\n",
       "    </tr>\n",
       "    <tr>\n",
       "      <th>6</th>\n",
       "      <td>NaN</td>\n",
       "      <td>0.018182</td>\n",
       "      <td>-0.018182</td>\n",
       "      <td>0.0</td>\n",
       "      <td>0.0</td>\n",
       "      <td>0.000000</td>\n",
       "      <td>0.018182</td>\n",
       "      <td>0.012856</td>\n",
       "    </tr>\n",
       "    <tr>\n",
       "      <th>7</th>\n",
       "      <td>NaN</td>\n",
       "      <td>0.000000</td>\n",
       "      <td>0.000000</td>\n",
       "      <td>0.0</td>\n",
       "      <td>0.0</td>\n",
       "      <td>0.001379</td>\n",
       "      <td>0.001379</td>\n",
       "      <td>0.000617</td>\n",
       "    </tr>\n",
       "    <tr>\n",
       "      <th>8</th>\n",
       "      <td>NaN</td>\n",
       "      <td>0.018182</td>\n",
       "      <td>-0.018182</td>\n",
       "      <td>0.0</td>\n",
       "      <td>0.0</td>\n",
       "      <td>0.000000</td>\n",
       "      <td>0.018182</td>\n",
       "      <td>0.012856</td>\n",
       "    </tr>\n",
       "    <tr>\n",
       "      <th>9</th>\n",
       "      <td>NaN</td>\n",
       "      <td>0.000000</td>\n",
       "      <td>0.000000</td>\n",
       "      <td>0.0</td>\n",
       "      <td>0.0</td>\n",
       "      <td>0.000000</td>\n",
       "      <td>0.000000</td>\n",
       "      <td>0.000000</td>\n",
       "    </tr>\n",
       "  </tbody>\n",
       "</table>\n",
       "</div>"
      ],
      "text/plain": [
       "   detectedPeriod_0  detectedPeriod_1  detectedPeriod_2  detectedPeriod_3  \\\n",
       "0               NaN          0.000000          0.000000               0.0   \n",
       "1               NaN          0.018182         -0.018182               0.0   \n",
       "2               NaN          0.000000          0.000000               0.0   \n",
       "3               NaN          0.000000          0.000000               0.0   \n",
       "4               NaN          0.000000          0.000000               0.0   \n",
       "5               NaN          0.000000          0.000000               0.0   \n",
       "6               NaN          0.018182         -0.018182               0.0   \n",
       "7               NaN          0.000000          0.000000               0.0   \n",
       "8               NaN          0.018182         -0.018182               0.0   \n",
       "9               NaN          0.000000          0.000000               0.0   \n",
       "\n",
       "   detectedPeriod_4  detectedPeriod_5  maxAbsDiff       std  \n",
       "0               0.0          0.001379    0.001379  0.000617  \n",
       "1               0.0          0.000000    0.018182  0.012856  \n",
       "2               0.0          0.000000    0.000000  0.000000  \n",
       "3               0.0          0.001379    0.001379  0.000617  \n",
       "4               0.0          0.000000    0.000000  0.000000  \n",
       "5               0.0          0.001379    0.001379  0.000617  \n",
       "6               0.0          0.000000    0.018182  0.012856  \n",
       "7               0.0          0.001379    0.001379  0.000617  \n",
       "8               0.0          0.000000    0.018182  0.012856  \n",
       "9               0.0          0.000000    0.000000  0.000000  "
      ]
     },
     "execution_count": 76,
     "metadata": {},
     "output_type": "execute_result"
    }
   ],
   "source": [
    "outputs[0.6]"
   ]
  },
  {
   "cell_type": "code",
   "execution_count": 77,
   "id": "e211e883",
   "metadata": {},
   "outputs": [
    {
     "data": {
      "application/vnd.jupyter.widget-view+json": {
       "model_id": "874c9a1b128c4421b904c9e93670113c",
       "version_major": 2,
       "version_minor": 0
      },
      "text/plain": [
       "IntSlider(value=7, continuous_update=False, description='Test:', max=10)"
      ]
     },
     "metadata": {},
     "output_type": "display_data"
    }
   ],
   "source": [
    "import ipywidgets as widgets\n",
    "widgets.IntSlider(\n",
    "    value=7,\n",
    "    min=0,\n",
    "    max=10,\n",
    "    step=1,\n",
    "    description='Test:',\n",
    "    disabled=False,\n",
    "    continuous_update=False,\n",
    "    orientation='horizontal',\n",
    "    readout=True,\n",
    "    readout_format='d'\n",
    ")"
   ]
  },
  {
   "cell_type": "code",
   "execution_count": 79,
   "id": "fadd4dc8",
   "metadata": {},
   "outputs": [
    {
     "data": {
      "application/vnd.jupyter.widget-view+json": {
       "model_id": "461b044f9afd4661ab2f0ebb368e18ac",
       "version_major": 2,
       "version_minor": 0
      },
      "text/plain": [
       "Tab(children=(Text(value='', description='P0'), Text(value='', description='P1'), Text(value='', description='…"
      ]
     },
     "metadata": {},
     "output_type": "display_data"
    }
   ],
   "source": [
    "tab_contents = ['numPoints', 'Fraction of absent']\n",
    "children = [widgets.Text(description=name) for name in tab_contents]\n",
    "children[3]=widgets.IntSlider(\n",
    "    value=7,\n",
    "    min=0,\n",
    "    max=10,\n",
    "    step=1,\n",
    "    description='Test:',\n",
    "    disabled=False,\n",
    "    continuous_update=False,\n",
    "    orientation='horizontal',\n",
    "    readout=True,\n",
    "    readout_format='d'\n",
    ")\n",
    "tab = widgets.Tab()\n",
    "tab.children = children\n",
    "for ii in range(len(children)):\n",
    "    tab.set_title(ii, f\"tab_{ii}\")\n",
    "tab"
   ]
  },
  {
   "cell_type": "code",
   "execution_count": 83,
   "id": "325769b3",
   "metadata": {},
   "outputs": [
    {
     "data": {
      "application/vnd.jupyter.widget-view+json": {
       "model_id": "4da7e67c36be4caba15ed1000f03bc82",
       "version_major": 2,
       "version_minor": 0
      },
      "text/plain": [
       "Tab(children=(Output(), Output()), _titles={'0': 'numPoints', '1': 'fraction of absent'})"
      ]
     },
     "metadata": {},
     "output_type": "display_data"
    }
   ],
   "source": [
    "out1 = widgets.Output()\n",
    "out2 = widgets.Output()\n",
    "data1 = pd.DataFrame(np.random.normal(size = 50))\n",
    "data2 = pd.DataFrame(np.random.normal(size = 100))\n",
    "\n",
    "tab = widgets.Tab(children = [out1, out2])\n",
    "tab.set_title(0, 'numPoints')\n",
    "tab.set_title(1, 'fraction of absent')\n",
    "display(tab)\n",
    "\n",
    "with out1:\n",
    "    fig1, axes1 = plt.subplots()\n",
    "    data1.hist(ax = axes1)\n",
    "    \n",
    "    widgets.IntSlider(\n",
    "    value=7,\n",
    "    min=0,\n",
    "    max=10,\n",
    "    step=1,\n",
    "    description='Test:',\n",
    "    disabled=False,\n",
    "    continuous_update=False,\n",
    "    orientation='horizontal',\n",
    "    readout=True,\n",
    "    readout_format='d'\n",
    ")\n",
    "    plt.show(fig1)\n",
    "\n",
    "with out2:\n",
    "    fig2, axes2 = plt.subplots()\n",
    "    data2.hist(ax = axes2)\n",
    "    plt.show(fig2)"
   ]
  },
  {
   "cell_type": "code",
   "execution_count": null,
   "id": "1d753aec",
   "metadata": {},
   "outputs": [],
   "source": []
  }
 ],
 "metadata": {
  "kernelspec": {
   "display_name": "Python 3 (ipykernel)",
   "language": "python",
   "name": "python3"
  },
  "language_info": {
   "codemirror_mode": {
    "name": "ipython",
    "version": 3
   },
   "file_extension": ".py",
   "mimetype": "text/x-python",
   "name": "python",
   "nbconvert_exporter": "python",
   "pygments_lexer": "ipython3",
   "version": "3.9.7"
  }
 },
 "nbformat": 4,
 "nbformat_minor": 5
}
