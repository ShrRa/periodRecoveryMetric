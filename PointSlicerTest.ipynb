{
 "cells": [
  {
   "cell_type": "code",
   "execution_count": 23,
   "id": "a452c737",
   "metadata": {},
   "outputs": [],
   "source": [
    "import os\n",
    "import numpy as np\n",
    "import pandas as pd\n",
    "import matplotlib.pyplot as plt\n",
    "%matplotlib inline\n",
    "import healpy as hp\n",
    "\n",
    "import rubin_sim.maf as maf\n",
    "import rubin_sim.utils as rsUtils\n",
    "from rubin_sim.data import get_baseline\n",
    "\n",
    "from simcodes.fitters import ExtendedLS\n",
    "from gatspy.periodic import LombScargleMultiband\n",
    "from KuiperMetric import KuiperVS"
   ]
  },
  {
   "cell_type": "code",
   "execution_count": 24,
   "id": "77f37b1a",
   "metadata": {},
   "outputs": [],
   "source": [
    "# Grab the current baseline file. Should have been downloaded with rubin_sim. \n",
    "# Can grab lots of different sims from: http://astro-lsst-01.astro.washington.edu:8081/\n",
    "baseline_file = get_baseline()\n",
    "name = os.path.basename(baseline_file).replace('.db','')\n",
    "conn = maf.db.OpsimDatabase(baseline_file)\n",
    "outDir = 'temp'\n",
    "resultsDb = maf.db.ResultsDb(outDir=outDir)"
   ]
  },
  {
   "cell_type": "code",
   "execution_count": 25,
   "id": "044dc059",
   "metadata": {},
   "outputs": [
    {
     "data": {
      "text/plain": [
       "'/mnt/Data/Work/Sources/rubin_sim_data/sim_baseline/baseline_v2.0_10yrs.db'"
      ]
     },
     "execution_count": 25,
     "metadata": {},
     "output_type": "execute_result"
    }
   ],
   "source": [
    "baseline_file"
   ]
  },
  {
   "cell_type": "code",
   "execution_count": 33,
   "id": "e327701a",
   "metadata": {},
   "outputs": [
    {
     "name": "stdout",
     "output_type": "stream",
     "text": [
      "rolling_all_sky_ns2_rw0.9_v2.0_10yrs\n"
     ]
    }
   ],
   "source": [
    "# Same for rolling cadence\n",
    "rollDbFile = '/mnt/Data/Work/Sources/rubin_sim_data/experiments/rolling_all_sky_ns2_rw0.9_v2.0_10yrs.db'\n",
    "rollName = os.path.split(rollDbFile)[-1].replace('.db', '')\n",
    "rollDb = maf.db.OpsimDatabase(rollDbFile)\n",
    "resultsDbRoll = maf.db.ResultsDb(outDir=outDir)\n",
    "print(rollName)"
   ]
  },
  {
   "cell_type": "code",
   "execution_count": 26,
   "id": "191c0808",
   "metadata": {},
   "outputs": [],
   "source": [
    "# Test quality of period determination\n",
    "### Integrating with period determination\n",
    "library=pd.read_csv('/mnt/Data/Work/GitHub/KuiperTest_VStemplates/simcodes/ZTF_VS_all_formatted.csv',index_col=0)\n",
    "library['unique_filts_']=library['unique_filts_'].apply(lambda x:list(map(eval,x[1:-1].split(' '))))\n",
    "library['ymean_by_filt_']=library['ymean_by_filt_'].apply(lambda x:np.array([float(k) for k in x[1:-1].split(' ') if len(k)>0]))\n",
    "library['theta']=library['theta'].apply(lambda x:np.array([float(k) for k in x[1:-1].split(' ') if len(k)>0]))"
   ]
  },
  {
   "cell_type": "code",
   "execution_count": 32,
   "id": "333c4066",
   "metadata": {},
   "outputs": [
    {
     "data": {
      "text/plain": [
       "<AxesSubplot:>"
      ]
     },
     "execution_count": 32,
     "metadata": {},
     "output_type": "execute_result"
    },
    {
     "data": {
      "image/png": "[encoded data removed]",
      "text/plain": [
       "<Figure size 432x288 with 1 Axes>"
      ]
     },
     "metadata": {
      "needs_background": "light"
     },
     "output_type": "display_data"
    }
   ],
   "source": [
    "library['_best_period'].hist(bins=30,log=True)"
   ]
  },
  {
   "cell_type": "code",
   "execution_count": 36,
   "id": "5ce8c9d8",
   "metadata": {},
   "outputs": [],
   "source": [
    "# Set range of periods for which we're gonna build the maps\n",
    "perStep=100\n",
    "numPoints=50\n",
    "totalObsLength=365*5\n",
    "#periods=np.round(np.linspace(perStep, numPoints*perStep,numPoints,dtype='float'),3) # equal step periods\n",
    "\"\"\"\n",
    "# Random periods\n",
    "periods=np.random.rand(numPoints)*totalObsLength\n",
    "periods=periods.round(2)\n",
    "\"\"\"\n",
    "\n",
    "#Periods based on the LC library\n",
    "periods=np.array(library['_best_period'])\n",
    "periods.sort()\n",
    "\n",
    "bundleList=[]\n",
    "bundleListRoll=[]\n",
    "ra = [0.]\n",
    "dec = [-20]\n",
    "\n",
    "\n",
    "for p in periods:\n",
    "    metric = KuiperVS(period=p)\n",
    "    sql = ''\n",
    "    slicer = maf.slicers.UserPointsSlicer(ra=ra, dec=dec)\n",
    "    bundleList.append(maf.MetricBundle(metric, slicer, sql, runName='KuiperVSTest_'+str(p)))\n",
    "    bundleListRoll.append(maf.MetricBundle(metric, slicer, sql, runName='RollKuiperVSTest_'+str(p)))"
   ]
  },
  {
   "cell_type": "code",
   "execution_count": 21,
   "id": "f5f15c12",
   "metadata": {
    "scrolled": true
   },
   "outputs": [
    {
     "name": "stdout",
     "output_type": "stream",
     "text": [
      "Querying database observations with no constraint for columns ['fieldRA', 'fieldDec', 'observationStartMJD', 'rotSkyPos'].\n",
      "Found 2086980 visits\n",
      "Running:  ['KuiperVSTest_14_66_KuiperVS_observationStartMJD_USER']\n",
      "Completed metric generation.\n",
      "Running:  ['KuiperVSTest_31_48_KuiperVS_observationStartMJD_USER']\n",
      "Completed metric generation.\n",
      "Running:  ['KuiperVSTest_52_1_KuiperVS_observationStartMJD_USER']\n",
      "Completed metric generation.\n",
      "Running:  ['KuiperVSTest_243_8_KuiperVS_observationStartMJD_USER']\n",
      "Completed metric generation.\n",
      "Running:  ['KuiperVSTest_252_51_KuiperVS_observationStartMJD_USER']\n",
      "Completed metric generation.\n",
      "Running:  ['KuiperVSTest_262_85_KuiperVS_observationStartMJD_USER']\n",
      "Completed metric generation.\n",
      "Running:  ['KuiperVSTest_319_15_KuiperVS_observationStartMJD_USER']\n",
      "Completed metric generation.\n",
      "Running:  ['KuiperVSTest_334_68_KuiperVS_observationStartMJD_USER']\n",
      "Completed metric generation.\n",
      "Running:  ['KuiperVSTest_355_49_KuiperVS_observationStartMJD_USER']\n",
      "Completed metric generation.\n",
      "Running:  ['KuiperVSTest_519_05_KuiperVS_observationStartMJD_USER']\n",
      "Completed metric generation.\n",
      "Running:  ['KuiperVSTest_530_4_KuiperVS_observationStartMJD_USER']\n",
      "Completed metric generation.\n",
      "Running:  ['KuiperVSTest_537_5_KuiperVS_observationStartMJD_USER']\n",
      "Completed metric generation.\n",
      "Running:  ['KuiperVSTest_561_69_KuiperVS_observationStartMJD_USER']\n",
      "Completed metric generation.\n",
      "Running:  ['KuiperVSTest_593_03_KuiperVS_observationStartMJD_USER']\n",
      "Completed metric generation.\n",
      "Running:  ['KuiperVSTest_639_73_KuiperVS_observationStartMJD_USER']\n",
      "Completed metric generation.\n",
      "Running:  ['KuiperVSTest_664_86_KuiperVS_observationStartMJD_USER']\n",
      "Completed metric generation.\n",
      "Running:  ['KuiperVSTest_677_34_KuiperVS_observationStartMJD_USER']\n",
      "Completed metric generation.\n",
      "Running:  ['KuiperVSTest_726_97_KuiperVS_observationStartMJD_USER']\n",
      "Completed metric generation.\n",
      "Running:  ['KuiperVSTest_728_65_KuiperVS_observationStartMJD_USER']\n",
      "Completed metric generation.\n",
      "Running:  ['KuiperVSTest_735_62_KuiperVS_observationStartMJD_USER']\n",
      "Completed metric generation.\n",
      "Running:  ['KuiperVSTest_765_3_KuiperVS_observationStartMJD_USER']\n",
      "Completed metric generation.\n",
      "Running:  ['KuiperVSTest_787_27_KuiperVS_observationStartMJD_USER']\n",
      "Completed metric generation.\n",
      "Running:  ['KuiperVSTest_857_78_KuiperVS_observationStartMJD_USER']\n",
      "Completed metric generation.\n",
      "Running:  ['KuiperVSTest_868_85_KuiperVS_observationStartMJD_USER']\n",
      "Completed metric generation.\n",
      "Running:  ['KuiperVSTest_896_2_KuiperVS_observationStartMJD_USER']\n",
      "Completed metric generation.\n",
      "Running:  ['KuiperVSTest_959_42_KuiperVS_observationStartMJD_USER']\n",
      "Completed metric generation.\n",
      "Running:  ['KuiperVSTest_1012_28_KuiperVS_observationStartMJD_USER']\n",
      "Completed metric generation.\n",
      "Running:  ['KuiperVSTest_1087_47_KuiperVS_observationStartMJD_USER']\n",
      "Completed metric generation.\n",
      "Running:  ['KuiperVSTest_1124_01_KuiperVS_observationStartMJD_USER']\n",
      "Completed metric generation.\n",
      "Running:  ['KuiperVSTest_1154_25_KuiperVS_observationStartMJD_USER']\n",
      "Completed metric generation.\n",
      "Running:  ['KuiperVSTest_1162_74_KuiperVS_observationStartMJD_USER']\n",
      "Completed metric generation.\n",
      "Running:  ['KuiperVSTest_1170_17_KuiperVS_observationStartMJD_USER']\n",
      "Completed metric generation.\n",
      "Running:  ['KuiperVSTest_1183_01_KuiperVS_observationStartMJD_USER']\n",
      "Completed metric generation.\n",
      "Running:  ['KuiperVSTest_1201_28_KuiperVS_observationStartMJD_USER']\n",
      "Completed metric generation.\n",
      "Running:  ['KuiperVSTest_1277_74_KuiperVS_observationStartMJD_USER']\n",
      "Completed metric generation.\n",
      "Running:  ['KuiperVSTest_1288_69_KuiperVS_observationStartMJD_USER']\n",
      "Completed metric generation.\n",
      "Running:  ['KuiperVSTest_1312_11_KuiperVS_observationStartMJD_USER']\n",
      "Completed metric generation.\n",
      "Running:  ['KuiperVSTest_1344_92_KuiperVS_observationStartMJD_USER']\n",
      "Completed metric generation.\n",
      "Running:  ['KuiperVSTest_1385_65_KuiperVS_observationStartMJD_USER']\n",
      "Completed metric generation.\n",
      "Running:  ['KuiperVSTest_1421_94_KuiperVS_observationStartMJD_USER']\n",
      "Completed metric generation.\n",
      "Running:  ['KuiperVSTest_1473_95_KuiperVS_observationStartMJD_USER']\n",
      "Completed metric generation.\n",
      "Running:  ['KuiperVSTest_1493_74_KuiperVS_observationStartMJD_USER']\n",
      "Completed metric generation.\n",
      "Running:  ['KuiperVSTest_1661_56_KuiperVS_observationStartMJD_USER']\n",
      "Completed metric generation.\n",
      "Running:  ['KuiperVSTest_1676_65_KuiperVS_observationStartMJD_USER']\n",
      "Completed metric generation.\n",
      "Running:  ['KuiperVSTest_1678_02_KuiperVS_observationStartMJD_USER']\n",
      "Completed metric generation.\n",
      "Running:  ['KuiperVSTest_1683_46_KuiperVS_observationStartMJD_USER']\n",
      "Completed metric generation.\n",
      "Running:  ['KuiperVSTest_1706_69_KuiperVS_observationStartMJD_USER']\n",
      "Completed metric generation.\n",
      "Running:  ['KuiperVSTest_1722_61_KuiperVS_observationStartMJD_USER']\n",
      "Completed metric generation.\n",
      "Running:  ['KuiperVSTest_1730_26_KuiperVS_observationStartMJD_USER']\n",
      "Completed metric generation.\n",
      "Running:  ['KuiperVSTest_1799_92_KuiperVS_observationStartMJD_USER']\n",
      "Completed metric generation.\n",
      "Running reduce methods.\n",
      "Running summary statistics.\n",
      "Completed.\n"
     ]
    }
   ],
   "source": [
    "bd = maf.metricBundles.makeBundlesDictFromList(bundleList)\n",
    "bg = maf.metricBundles.MetricBundleGroup(bd, conn, outDir=outDir, resultsDb=resultsDb)\n",
    "bg.runAll()"
   ]
  },
  {
   "cell_type": "code",
   "execution_count": 22,
   "id": "f1f0bc02",
   "metadata": {
    "scrolled": true
   },
   "outputs": [
    {
     "name": "stdout",
     "output_type": "stream",
     "text": [
      "Querying database observations with no constraint for columns ['fieldRA', 'fieldDec', 'observationStartMJD', 'rotSkyPos'].\n",
      "Found 2088105 visits\n",
      "Running:  ['RollKuiperVSTest_14_66_KuiperVS_observationStartMJD_USER']\n",
      "Completed metric generation.\n",
      "Running:  ['RollKuiperVSTest_31_48_KuiperVS_observationStartMJD_USER']\n",
      "Completed metric generation.\n",
      "Running:  ['RollKuiperVSTest_52_1_KuiperVS_observationStartMJD_USER']\n"
     ]
    },
    {
     "ename": "KeyboardInterrupt",
     "evalue": "",
     "output_type": "error",
     "traceback": [
      "\u001b[0;31m---------------------------------------------------------------------------\u001b[0m",
      "\u001b[0;31mKeyboardInterrupt\u001b[0m                         Traceback (most recent call last)",
      "\u001b[0;32m/tmp/ipykernel_7857/3517177423.py\u001b[0m in \u001b[0;36m<module>\u001b[0;34m\u001b[0m\n\u001b[1;32m      1\u001b[0m \u001b[0mbdRoll\u001b[0m \u001b[0;34m=\u001b[0m \u001b[0mmaf\u001b[0m\u001b[0;34m.\u001b[0m\u001b[0mmetricBundles\u001b[0m\u001b[0;34m.\u001b[0m\u001b[0mmakeBundlesDictFromList\u001b[0m\u001b[0;34m(\u001b[0m\u001b[0mbundleListRoll\u001b[0m\u001b[0;34m)\u001b[0m\u001b[0;34m\u001b[0m\u001b[0;34m\u001b[0m\u001b[0m\n\u001b[1;32m      2\u001b[0m \u001b[0mbgRoll\u001b[0m \u001b[0;34m=\u001b[0m \u001b[0mmaf\u001b[0m\u001b[0;34m.\u001b[0m\u001b[0mmetricBundles\u001b[0m\u001b[0;34m.\u001b[0m\u001b[0mMetricBundleGroup\u001b[0m\u001b[0;34m(\u001b[0m\u001b[0mbdRoll\u001b[0m\u001b[0;34m,\u001b[0m \u001b[0mrollDb\u001b[0m\u001b[0;34m,\u001b[0m \u001b[0moutDir\u001b[0m\u001b[0;34m=\u001b[0m\u001b[0moutDir\u001b[0m\u001b[0;34m,\u001b[0m \u001b[0mresultsDb\u001b[0m\u001b[0;34m=\u001b[0m\u001b[0mresultsDbRoll\u001b[0m\u001b[0;34m)\u001b[0m\u001b[0;34m\u001b[0m\u001b[0;34m\u001b[0m\u001b[0m\n\u001b[0;32m----> 3\u001b[0;31m \u001b[0mbgRoll\u001b[0m\u001b[0;34m.\u001b[0m\u001b[0mrunAll\u001b[0m\u001b[0;34m(\u001b[0m\u001b[0;34m)\u001b[0m\u001b[0;34m\u001b[0m\u001b[0;34m\u001b[0m\u001b[0m\n\u001b[0m",
      "\u001b[0;32m/mnt/Data/Work/GitHub/rubin_sim/rubin_sim/maf/metricBundles/metricBundleGroup.py\u001b[0m in \u001b[0;36mrunAll\u001b[0;34m(self, clearMemory, plotNow, plotKwargs)\u001b[0m\n\u001b[1;32m    240\u001b[0m             \u001b[0;31m# Set the 'currentBundleDict' which is a dictionary of the metricBundles which match this\u001b[0m\u001b[0;34m\u001b[0m\u001b[0;34m\u001b[0m\u001b[0m\n\u001b[1;32m    241\u001b[0m             \u001b[0;31m#  constraint.\u001b[0m\u001b[0;34m\u001b[0m\u001b[0;34m\u001b[0m\u001b[0m\n\u001b[0;32m--> 242\u001b[0;31m             self.runCurrent(constraint, clearMemory=clearMemory,\n\u001b[0m\u001b[1;32m    243\u001b[0m                             plotNow=plotNow, plotKwargs=plotKwargs)\n\u001b[1;32m    244\u001b[0m \u001b[0;34m\u001b[0m\u001b[0m\n",
      "\u001b[0;32m/mnt/Data/Work/GitHub/rubin_sim/rubin_sim/maf/metricBundles/metricBundleGroup.py\u001b[0m in \u001b[0;36mrunCurrent\u001b[0;34m(self, constraint, simData, clearMemory, plotNow, plotKwargs)\u001b[0m\n\u001b[1;32m    320\u001b[0m             \u001b[0;32mif\u001b[0m \u001b[0mself\u001b[0m\u001b[0;34m.\u001b[0m\u001b[0mverbose\u001b[0m\u001b[0;34m:\u001b[0m\u001b[0;34m\u001b[0m\u001b[0;34m\u001b[0m\u001b[0m\n\u001b[1;32m    321\u001b[0m                 \u001b[0mprint\u001b[0m\u001b[0;34m(\u001b[0m\u001b[0;34m'Running: '\u001b[0m\u001b[0;34m,\u001b[0m \u001b[0mcompatibleList\u001b[0m\u001b[0;34m)\u001b[0m\u001b[0;34m\u001b[0m\u001b[0;34m\u001b[0m\u001b[0m\n\u001b[0;32m--> 322\u001b[0;31m             \u001b[0mself\u001b[0m\u001b[0;34m.\u001b[0m\u001b[0m_runCompatible\u001b[0m\u001b[0;34m(\u001b[0m\u001b[0mcompatibleList\u001b[0m\u001b[0;34m)\u001b[0m\u001b[0;34m\u001b[0m\u001b[0;34m\u001b[0m\u001b[0m\n\u001b[0m\u001b[1;32m    323\u001b[0m             \u001b[0;32mif\u001b[0m \u001b[0mself\u001b[0m\u001b[0;34m.\u001b[0m\u001b[0mverbose\u001b[0m\u001b[0;34m:\u001b[0m\u001b[0;34m\u001b[0m\u001b[0;34m\u001b[0m\u001b[0m\n\u001b[1;32m    324\u001b[0m                 \u001b[0mprint\u001b[0m\u001b[0;34m(\u001b[0m\u001b[0;34m'Completed metric generation.'\u001b[0m\u001b[0;34m)\u001b[0m\u001b[0;34m\u001b[0m\u001b[0;34m\u001b[0m\u001b[0m\n",
      "\u001b[0;32m/mnt/Data/Work/GitHub/rubin_sim/rubin_sim/maf/metricBundles/metricBundleGroup.py\u001b[0m in \u001b[0;36m_runCompatible\u001b[0;34m(self, compatibleList)\u001b[0m\n\u001b[1;32m    435\u001b[0m             \u001b[0mslicer\u001b[0m\u001b[0;34m.\u001b[0m\u001b[0msetupSlicer\u001b[0m\u001b[0;34m(\u001b[0m\u001b[0mself\u001b[0m\u001b[0;34m.\u001b[0m\u001b[0msimData\u001b[0m\u001b[0;34m,\u001b[0m \u001b[0mself\u001b[0m\u001b[0;34m.\u001b[0m\u001b[0mfieldData\u001b[0m\u001b[0;34m,\u001b[0m \u001b[0mmaps\u001b[0m\u001b[0;34m=\u001b[0m\u001b[0muniqMaps\u001b[0m\u001b[0;34m)\u001b[0m\u001b[0;34m\u001b[0m\u001b[0;34m\u001b[0m\u001b[0m\n\u001b[1;32m    436\u001b[0m         \u001b[0;32melse\u001b[0m\u001b[0;34m:\u001b[0m\u001b[0;34m\u001b[0m\u001b[0;34m\u001b[0m\u001b[0m\n\u001b[0;32m--> 437\u001b[0;31m             \u001b[0mslicer\u001b[0m\u001b[0;34m.\u001b[0m\u001b[0msetupSlicer\u001b[0m\u001b[0;34m(\u001b[0m\u001b[0mself\u001b[0m\u001b[0;34m.\u001b[0m\u001b[0msimData\u001b[0m\u001b[0;34m,\u001b[0m \u001b[0mmaps\u001b[0m\u001b[0;34m=\u001b[0m\u001b[0muniqMaps\u001b[0m\u001b[0;34m)\u001b[0m\u001b[0;34m\u001b[0m\u001b[0;34m\u001b[0m\u001b[0m\n\u001b[0m\u001b[1;32m    438\u001b[0m         \u001b[0;31m# Copy the slicer (after setup) back into the individual metricBundles.\u001b[0m\u001b[0;34m\u001b[0m\u001b[0;34m\u001b[0m\u001b[0m\n\u001b[1;32m    439\u001b[0m         \u001b[0;32mif\u001b[0m \u001b[0mslicer\u001b[0m\u001b[0;34m.\u001b[0m\u001b[0mslicerName\u001b[0m \u001b[0;34m!=\u001b[0m \u001b[0;34m'HealpixSlicer'\u001b[0m \u001b[0;32mor\u001b[0m \u001b[0mslicer\u001b[0m\u001b[0;34m.\u001b[0m\u001b[0mslicerName\u001b[0m \u001b[0;34m!=\u001b[0m \u001b[0;34m'UniSlicer'\u001b[0m\u001b[0;34m:\u001b[0m\u001b[0;34m\u001b[0m\u001b[0;34m\u001b[0m\u001b[0m\n",
      "\u001b[0;32m/mnt/Data/Work/GitHub/rubin_sim/rubin_sim/maf/slicers/baseSpatialSlicer.py\u001b[0m in \u001b[0;36msetupSlicer\u001b[0;34m(self, simData, maps)\u001b[0m\n\u001b[1;32m    115\u001b[0m             \u001b[0mself\u001b[0m\u001b[0;34m.\u001b[0m\u001b[0m_setupLSSTCamera\u001b[0m\u001b[0;34m(\u001b[0m\u001b[0;34m)\u001b[0m\u001b[0;34m\u001b[0m\u001b[0;34m\u001b[0m\u001b[0m\n\u001b[1;32m    116\u001b[0m         \u001b[0;32mif\u001b[0m \u001b[0mself\u001b[0m\u001b[0;34m.\u001b[0m\u001b[0mlatLonDeg\u001b[0m\u001b[0;34m:\u001b[0m\u001b[0;34m\u001b[0m\u001b[0;34m\u001b[0m\u001b[0m\n\u001b[0;32m--> 117\u001b[0;31m             self._buildTree(np.radians(simData[self.lonCol]),\n\u001b[0m\u001b[1;32m    118\u001b[0m                             np.radians(simData[self.latCol]), self.leafsize)\n\u001b[1;32m    119\u001b[0m         \u001b[0;32melse\u001b[0m\u001b[0;34m:\u001b[0m\u001b[0;34m\u001b[0m\u001b[0;34m\u001b[0m\u001b[0m\n",
      "\u001b[0;32m/mnt/Data/Work/GitHub/rubin_sim/rubin_sim/maf/slicers/baseSpatialSlicer.py\u001b[0m in \u001b[0;36m_buildTree\u001b[0;34m(self, simDataRa, simDataDec, leafsize)\u001b[0m\n\u001b[1;32m    165\u001b[0m         \u001b[0msimDataRA\u001b[0m\u001b[0;34m,\u001b[0m \u001b[0msimDataDec\u001b[0m \u001b[0;34m=\u001b[0m \u001b[0mRA\u001b[0m \u001b[0;32mand\u001b[0m \u001b[0mDec\u001b[0m \u001b[0mvalues\u001b[0m \u001b[0;34m(\u001b[0m\u001b[0;32min\u001b[0m \u001b[0mradians\u001b[0m\u001b[0;34m)\u001b[0m\u001b[0;34m.\u001b[0m\u001b[0;34m\u001b[0m\u001b[0;34m\u001b[0m\u001b[0m\n\u001b[1;32m    166\u001b[0m         leafsize = the number of Ra/Dec pointings in each leaf node.\"\"\"\n\u001b[0;32m--> 167\u001b[0;31m         self.opsimtree = simsUtils._buildTree(simDataRa,\n\u001b[0m\u001b[1;32m    168\u001b[0m                                               \u001b[0msimDataDec\u001b[0m\u001b[0;34m,\u001b[0m\u001b[0;34m\u001b[0m\u001b[0;34m\u001b[0m\u001b[0m\n\u001b[1;32m    169\u001b[0m                                               leafsize)\n",
      "\u001b[0;32m/mnt/Data/Work/GitHub/rubin_sim/rubin_sim/utils/treeUtils.py\u001b[0m in \u001b[0;36m_buildTree\u001b[0;34m(ra, dec, leafsize, scale)\u001b[0m\n\u001b[1;32m     32\u001b[0m         \u001b[0my\u001b[0m \u001b[0;34m=\u001b[0m \u001b[0mnp\u001b[0m\u001b[0;34m.\u001b[0m\u001b[0mround\u001b[0m\u001b[0;34m(\u001b[0m\u001b[0my\u001b[0m\u001b[0;34m*\u001b[0m\u001b[0mscale\u001b[0m\u001b[0;34m)\u001b[0m\u001b[0;34m.\u001b[0m\u001b[0mastype\u001b[0m\u001b[0;34m(\u001b[0m\u001b[0mint\u001b[0m\u001b[0;34m)\u001b[0m\u001b[0;34m\u001b[0m\u001b[0;34m\u001b[0m\u001b[0m\n\u001b[1;32m     33\u001b[0m         \u001b[0mz\u001b[0m \u001b[0;34m=\u001b[0m \u001b[0mnp\u001b[0m\u001b[0;34m.\u001b[0m\u001b[0mround\u001b[0m\u001b[0;34m(\u001b[0m\u001b[0mz\u001b[0m\u001b[0;34m*\u001b[0m\u001b[0mscale\u001b[0m\u001b[0;34m)\u001b[0m\u001b[0;34m.\u001b[0m\u001b[0mastype\u001b[0m\u001b[0;34m(\u001b[0m\u001b[0mint\u001b[0m\u001b[0;34m)\u001b[0m\u001b[0;34m\u001b[0m\u001b[0;34m\u001b[0m\u001b[0m\n\u001b[0;32m---> 34\u001b[0;31m     \u001b[0mdata\u001b[0m \u001b[0;34m=\u001b[0m \u001b[0mlist\u001b[0m\u001b[0;34m(\u001b[0m\u001b[0mzip\u001b[0m\u001b[0;34m(\u001b[0m\u001b[0mx\u001b[0m\u001b[0;34m,\u001b[0m \u001b[0my\u001b[0m\u001b[0;34m,\u001b[0m \u001b[0mz\u001b[0m\u001b[0;34m)\u001b[0m\u001b[0;34m)\u001b[0m\u001b[0;34m\u001b[0m\u001b[0;34m\u001b[0m\u001b[0m\n\u001b[0m\u001b[1;32m     35\u001b[0m     \u001b[0;32mif\u001b[0m \u001b[0mnp\u001b[0m\u001b[0;34m.\u001b[0m\u001b[0msize\u001b[0m\u001b[0;34m(\u001b[0m\u001b[0mdata\u001b[0m\u001b[0;34m)\u001b[0m \u001b[0;34m>\u001b[0m \u001b[0;36m0\u001b[0m\u001b[0;34m:\u001b[0m\u001b[0;34m\u001b[0m\u001b[0;34m\u001b[0m\u001b[0m\n\u001b[1;32m     36\u001b[0m         \u001b[0;32mtry\u001b[0m\u001b[0;34m:\u001b[0m\u001b[0;34m\u001b[0m\u001b[0;34m\u001b[0m\u001b[0m\n",
      "\u001b[0;31mKeyboardInterrupt\u001b[0m: "
     ]
    }
   ],
   "source": [
    "bdRoll = maf.metricBundles.makeBundlesDictFromList(bundleListRoll)\n",
    "bgRoll = maf.metricBundles.MetricBundleGroup(bdRoll, rollDb, outDir=outDir, resultsDb=resultsDbRoll)\n",
    "bgRoll.runAll()"
   ]
  },
  {
   "cell_type": "code",
   "execution_count": null,
   "id": "ca8dda90",
   "metadata": {},
   "outputs": [],
   "source": [
    "getResultDict=lambda bList:{float(p.runName.split('_')[1]):p.metricValues.data[0] for p in bList}\n",
    "periods=getResultDict(bundleList)\n",
    "periodsRoll=getResultDict(bundleListRoll)"
   ]
  },
  {
   "cell_type": "code",
   "execution_count": null,
   "id": "64169305",
   "metadata": {},
   "outputs": [],
   "source": [
    "fig,ax=plt.subplots(1,1,figsize=(15,3))\n",
    "ax.scatter(periods.keys(),periods.values(),s=2)\n",
    "ax.scatter(periodsRoll.keys(),periodsRoll.values(),marker='s',s=2)"
   ]
  },
  {
   "cell_type": "code",
   "execution_count": null,
   "id": "92c2e76b",
   "metadata": {},
   "outputs": [],
   "source": [
    "metricPass = maf.metrics.PassMetric(cols=['filter', 'observationStartMJD', 'fiveSigmaDepth'])\n",
    "bundleListPass=[]\n",
    "bundleListPassRoll=[]\n",
    "\n",
    "bundleListPass.append(maf.MetricBundle(metricPass, slicer, sql, runName='PassForAPoint'))\n",
    "bdPass = maf.metricBundles.makeBundlesDictFromList(bundleListPass)\n",
    "bgPass = maf.metricBundles.MetricBundleGroup(bdPass, conn, \n",
    "                                                outDir=outDir, resultsDb=resultsDb)\n",
    "bgPass.runAll()\n",
    "\n",
    "bundleListPassRoll.append(maf.MetricBundle(metricPass, slicer, sql, runName='PassForAPointRoll'))\n",
    "bdPassRoll = maf.metricBundles.makeBundlesDictFromList(bundleListPassRoll)\n",
    "bgPassRoll = maf.metricBundles.MetricBundleGroup(bdPassRoll, rollDb, \n",
    "                                                outDir=outDir, resultsDb=resultsDb)\n",
    "bgPassRoll.runAll()"
   ]
  },
  {
   "cell_type": "code",
   "execution_count": null,
   "id": "a30f2772",
   "metadata": {},
   "outputs": [],
   "source": [
    "def phasedCadence(period:float,dataSlice,mjdCol:str='observationStartMJD'):\n",
    "    \"\"\"\n",
    "    Returns phase values for the timestamps of observatons\n",
    "    \"\"\"\n",
    "    return (dataSlice[mjdCol]%float(period)/float(period))"
   ]
  },
  {
   "cell_type": "code",
   "execution_count": null,
   "id": "24b273f9",
   "metadata": {},
   "outputs": [],
   "source": [
    "# Plot phased observations \n",
    "dataSlice=bundleListPass[0].metricValues.data[~bundleListPass[0].metricValues.mask][0]\n",
    "new_dt = np.dtype(dataSlice.dtype.descr + [('phasedObs', '<f8')])\n",
    "dataSlice2 = np.zeros(dataSlice.shape, dtype=new_dt)\n",
    "for c in dataSlice.dtype.names:\n",
    "    dataSlice2[c]=dataSlice[c]\n",
    "    \n",
    "\n",
    "    \n",
    "for period,kuipVal in periods.items():\n",
    "    dataSlice2['phasedObs']=phasedCadence(period=period,dataSlice=dataSlice)\n",
    "\n",
    "    # Let's plot up what the 5-sigma depth looks like\n",
    "    plt.figure()\n",
    "    # Give each filter it's own color\n",
    "    f2c = {'u': 'purple', 'g': 'blue', 'r': 'green',\n",
    "           'i': 'cyan', 'z': 'orange', 'y': 'red'}\n",
    "    for fn in f2c:\n",
    "        in_filt = np.where(dataSlice2['filter'] == fn)[0]\n",
    "        plt.plot(dataSlice2['phasedObs'][in_filt],\n",
    "                 dataSlice2['fiveSigmaDepth'][in_filt], 'o',\n",
    "                 color=f2c[fn],\n",
    "                 label=fn+r', $\\sigma=$ %.2f' % (np.std(dataSlice2['fiveSigmaDepth'][in_filt])),\n",
    "                 alpha=0.8,\n",
    "                 markersize=2)\n",
    "    plt.xlabel('phase')\n",
    "    plt.ylabel(r'5$\\sigma$\\ depth (mags)')\n",
    "    plt.xlim(0,1)\n",
    "    plt.legend(loc=(1.04,0))\n",
    "    plt.title('Kuip value='+str(round(kuipVal,2))+'. \\n'+\n",
    "              str(len(dataSlice))+' observations. Period = '+str(period)+' days')"
   ]
  },
  {
   "cell_type": "code",
   "execution_count": null,
   "id": "fd5200c1",
   "metadata": {},
   "outputs": [],
   "source": []
  },
  {
   "cell_type": "code",
   "execution_count": null,
   "id": "5df32359",
   "metadata": {},
   "outputs": [],
   "source": [
    "def determinePeriod(dataSlice,row,periodMin:float, periodMax:float,plot:bool)->float:\n",
    "    \"\"\"\n",
    "    Determine period for a simulated light curve 'observed' with a given cadence. Credits for the simcode and \n",
    "    LCs to Kresimir Tisanic\n",
    "    \"\"\"\n",
    "    uniqueFilts=[s.strip('z') for s in row['unique_filts_']]\n",
    "    dataSlice=dataSlice[np.isin(dataSlice['filter'], uniqueFilts)]\n",
    "    t=dataSlice['observationStartMJD']\n",
    "    filts=dataSlice['filter']\n",
    "    ext=ExtendedLS(fit_period=True,optimizer_kwds=dict(quiet=True),Nterms_base=row['Nterms'])\n",
    "    ext.import_parameters(row)\n",
    "    mags = ext.predict(t=t,filts=filts)\n",
    "    magErrs=0.1*mags\n",
    "    ext.optimizer.period_range = (periodMin, periodMax)\n",
    "    p=ext.fit(t,mags,magErrs,filts).best_period\n",
    "    if plot==True:\n",
    "        fig=plt.figure(figsize=(5,5))\n",
    "        subplot=fig.add_subplot(1,1,1)\n",
    "        for f in uniqueFilts:\n",
    "            subplot.scatter((t[np.where(filts==f)]%p)/p,mags[np.where(filts==f)],s=1,label=f)\n",
    "        subplot.legend()\n",
    "    return p"
   ]
  },
  {
   "cell_type": "code",
   "execution_count": null,
   "id": "e17b0c7b",
   "metadata": {},
   "outputs": [],
   "source": [
    "def getLCsFromHPix(bundleListByHPix:list,idx:int,\n",
    "                   library:pd.DataFrame,periodMin=0.001,periodMax=10,\n",
    "                   plot:bool=True):\n",
    "    \"\"\"\n",
    "    Return the LC library table with best determined periods and their differences with the model ones\n",
    "    \"\"\"\n",
    "    dataSlice=bundleListByHPix[idx].metricValues.data[~bundleListByHPix[idx].metricValues.mask][0]\n",
    "    print('dataSlice size is '+str(len(dataSlice)))\n",
    "    libraryObsQuality=library.copy(deep=True)\n",
    "    libraryObsQuality['detectedPeriod']=None\n",
    "    fig=plt.figure(figsize=(3,2))\n",
    "\n",
    "\n",
    "    libraryObsQuality['detectedPeriod']=libraryObsQuality.progress_apply(lambda row:determinePeriod(dataSlice,row,\n",
    "                                                                                           periodMin, periodMax,\n",
    "                                                                                           plot=plot), \n",
    "                                                                                           axis=1)\n",
    "    libraryObsQuality['diffPeriod']=libraryObsQuality['_best_period']-libraryObsQuality['detectedPeriod']\n",
    "    libraryObsQuality['relativeError']=libraryObsQuality['diffPeriod']*100/libraryObsQuality['_best_period']\n",
    "    return libraryObsQuality"
   ]
  }
 ],
 "metadata": {
  "kernelspec": {
   "display_name": "Python 3 (ipykernel)",
   "language": "python",
   "name": "python3"
  },
  "language_info": {
   "codemirror_mode": {
    "name": "ipython",
    "version": 3
   },
   "file_extension": ".py",
   "mimetype": "text/x-python",
   "name": "python",
   "nbconvert_exporter": "python",
   "pygments_lexer": "ipython3",
   "version": "3.9.7"
  }
 },
 "nbformat": 4,
 "nbformat_minor": 5
}
